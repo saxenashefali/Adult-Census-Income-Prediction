{
 "cells": [
  {
   "cell_type": "markdown",
   "id": "0f241383",
   "metadata": {},
   "source": [
    "## Installing Required Packages and Modules"
   ]
  },
  {
   "cell_type": "code",
   "execution_count": null,
   "id": "08e45bf2",
   "metadata": {
    "colab": {
     "base_uri": "https://localhost:8080/"
    },
    "id": "I9rOr3zx6Ss2",
    "outputId": "cc095931-76fe-4e41-90bc-8a8ec20b8247"
   },
   "outputs": [],
   "source": [
    "# Executing a bash command to install cassandra driver\n",
    "!pip install cassandra-driver"
   ]
  },
  {
   "cell_type": "code",
   "execution_count": 2,
   "id": "1d53f526",
   "metadata": {
    "id": "1d53f526"
   },
   "outputs": [],
   "source": [
    "# Importing required libraries\n",
    "\n",
    "import numpy as np\n",
    "import pandas as pd\n",
    "from matplotlib import pyplot as plt\n",
    "import seaborn as sns\n",
    "\n",
    "# Ignoring warnings\n",
    "import warnings \n",
    "warnings.filterwarnings(action='ignore')"
   ]
  },
  {
   "cell_type": "code",
   "execution_count": 3,
   "id": "40c0a1a7",
   "metadata": {
    "id": "40c0a1a7"
   },
   "outputs": [],
   "source": [
    "# setting max columns as 50 to display in pandas\n",
    "pd.set_option(\"display.max_columns\",50)"
   ]
  },
  {
   "cell_type": "markdown",
   "id": "f37ae919",
   "metadata": {
    "id": "f37ae919"
   },
   "source": [
    "## Exploratory Data Analysis (EDA)"
   ]
  },
  {
   "cell_type": "code",
   "execution_count": 4,
   "id": "7c098754",
   "metadata": {
    "id": "7c098754"
   },
   "outputs": [],
   "source": [
    "# specifying client_id and client_secret to connect to cassandra database\n",
    "client_id = 'GJZtsoMguQmWZOZZPPWIdeAw'\n",
    "client_secret = 'yTdq.2Sf7PWG8bxd4mAClagWvZt0C9ATXv+c,.3a7tuczorvi5C0qBe,\\\n",
    "g0ZeZHJDfapam,t78bDOfuNL..pI,oSZiGITc9vAm6CoPJ24Oa68m2fCsCu+O3IujjDFFgI0'"
   ]
  },
  {
   "cell_type": "code",
   "execution_count": 5,
   "id": "sNVFpLOF6G1-",
   "metadata": {
    "id": "sNVFpLOF6G1-"
   },
   "outputs": [],
   "source": [
    "# connecting to cassandra database\n",
    "from cassandra.cluster import Cluster\n",
    "from cassandra.auth import PlainTextAuthProvider\n",
    "\n",
    "cloud_config= {\n",
    "        'secure_connect_bundle': '/content/secure-connect-my-database.zip'\n",
    "}\n",
    "auth_provider = PlainTextAuthProvider(client_id, client_secret)\n",
    "cluster = Cluster(cloud=cloud_config, auth_provider=auth_provider)\n",
    "session = cluster.connect()\n",
    "\n",
    "df = pd.DataFrame(list(session.execute(\"select * from my_keyspace.adult_data;\")))"
   ]
  },
  {
   "cell_type": "code",
   "execution_count": 6,
   "id": "G_IRLvUxZOVY",
   "metadata": {
    "colab": {
     "base_uri": "https://localhost:8080/"
    },
    "id": "G_IRLvUxZOVY",
    "outputId": "67eea041-ad27-43fb-f5aa-be898d0470dc"
   },
   "outputs": [
    {
     "data": {
      "text/plain": [
       "Index(['index', 'age', 'capital_gain', 'capital_loss', 'country', 'education',\n",
       "       'education_num', 'fnlwgt', 'hours_per_week', 'marital_status',\n",
       "       'occupation', 'race', 'relationship', 'salary', 'sex', 'workclass'],\n",
       "      dtype='object')"
      ]
     },
     "execution_count": 6,
     "metadata": {},
     "output_type": "execute_result"
    }
   ],
   "source": [
    "# Checking different columns present\n",
    "df.columns"
   ]
  },
  {
   "cell_type": "code",
   "execution_count": 7,
   "id": "ydCsaRJ27AQj",
   "metadata": {
    "id": "ydCsaRJ27AQj"
   },
   "outputs": [],
   "source": [
    "# Removing the index column\n",
    "df = df.iloc[:, 1:]"
   ]
  },
  {
   "cell_type": "code",
   "execution_count": 8,
   "id": "288e43ce",
   "metadata": {
    "colab": {
     "base_uri": "https://localhost:8080/"
    },
    "id": "288e43ce",
    "outputId": "22e24513-c64c-444c-af61-90713185d3d5"
   },
   "outputs": [
    {
     "name": "stdout",
     "output_type": "stream",
     "text": [
      "Number of rows in data :  32561\n",
      "Number of columns in data :  15\n"
     ]
    }
   ],
   "source": [
    "# number of rows and columns in train and test data\n",
    "\n",
    "print('Number of rows in data : ', df.shape[0])\n",
    "print('Number of columns in data : ', df.shape[1])"
   ]
  },
  {
   "cell_type": "code",
   "execution_count": 9,
   "id": "5154d767",
   "metadata": {
    "colab": {
     "base_uri": "https://localhost:8080/"
    },
    "id": "5154d767",
    "outputId": "aa16590e-2045-4c6f-8baf-3c83a6b11747"
   },
   "outputs": [
    {
     "name": "stdout",
     "output_type": "stream",
     "text": [
      "data info :\n",
      "--------------------------------------------------\n",
      "<class 'pandas.core.frame.DataFrame'>\n",
      "RangeIndex: 32561 entries, 0 to 32560\n",
      "Data columns (total 15 columns):\n",
      " #   Column          Non-Null Count  Dtype \n",
      "---  ------          --------------  ----- \n",
      " 0   age             32561 non-null  int64 \n",
      " 1   capital_gain    32561 non-null  int64 \n",
      " 2   capital_loss    32561 non-null  int64 \n",
      " 3   country         32561 non-null  object\n",
      " 4   education       32561 non-null  object\n",
      " 5   education_num   32561 non-null  int64 \n",
      " 6   fnlwgt          32561 non-null  int64 \n",
      " 7   hours_per_week  32561 non-null  int64 \n",
      " 8   marital_status  32561 non-null  object\n",
      " 9   occupation      32561 non-null  object\n",
      " 10  race            32561 non-null  object\n",
      " 11  relationship    32561 non-null  object\n",
      " 12  salary          32561 non-null  object\n",
      " 13  sex             32561 non-null  object\n",
      " 14  workclass       32561 non-null  object\n",
      "dtypes: int64(6), object(9)\n",
      "memory usage: 3.7+ MB\n"
     ]
    }
   ],
   "source": [
    "### checking datatypes of different features\n",
    "print('data info :')\n",
    "print('-'*50)\n",
    "df.info()"
   ]
  },
  {
   "cell_type": "code",
   "execution_count": 10,
   "id": "46e7c629",
   "metadata": {
    "colab": {
     "base_uri": "https://localhost:8080/",
     "height": 309
    },
    "id": "46e7c629",
    "outputId": "12ace52b-0783-4ccf-e652-48157f86d0ac"
   },
   "outputs": [
    {
     "data": {
      "text/html": [
       "<div>\n",
       "<style scoped>\n",
       "    .dataframe tbody tr th:only-of-type {\n",
       "        vertical-align: middle;\n",
       "    }\n",
       "\n",
       "    .dataframe tbody tr th {\n",
       "        vertical-align: top;\n",
       "    }\n",
       "\n",
       "    .dataframe thead th {\n",
       "        text-align: right;\n",
       "    }\n",
       "</style>\n",
       "<table border=\"1\" class=\"dataframe\">\n",
       "  <thead>\n",
       "    <tr style=\"text-align: right;\">\n",
       "      <th></th>\n",
       "      <th>age</th>\n",
       "      <th>capital_gain</th>\n",
       "      <th>capital_loss</th>\n",
       "      <th>country</th>\n",
       "      <th>education</th>\n",
       "      <th>education_num</th>\n",
       "      <th>fnlwgt</th>\n",
       "      <th>hours_per_week</th>\n",
       "      <th>marital_status</th>\n",
       "      <th>occupation</th>\n",
       "      <th>race</th>\n",
       "      <th>relationship</th>\n",
       "      <th>salary</th>\n",
       "      <th>sex</th>\n",
       "      <th>workclass</th>\n",
       "    </tr>\n",
       "  </thead>\n",
       "  <tbody>\n",
       "    <tr>\n",
       "      <th>0</th>\n",
       "      <td>40</td>\n",
       "      <td>0</td>\n",
       "      <td>0</td>\n",
       "      <td>United-States</td>\n",
       "      <td>Bachelors</td>\n",
       "      <td>13</td>\n",
       "      <td>289403</td>\n",
       "      <td>35</td>\n",
       "      <td>Separated</td>\n",
       "      <td>Adm-clerical</td>\n",
       "      <td>Black</td>\n",
       "      <td>Unmarried</td>\n",
       "      <td>&lt;=50K</td>\n",
       "      <td>Male</td>\n",
       "      <td>Private</td>\n",
       "    </tr>\n",
       "    <tr>\n",
       "      <th>1</th>\n",
       "      <td>36</td>\n",
       "      <td>0</td>\n",
       "      <td>0</td>\n",
       "      <td>United-States</td>\n",
       "      <td>HS-grad</td>\n",
       "      <td>9</td>\n",
       "      <td>171968</td>\n",
       "      <td>40</td>\n",
       "      <td>Married-civ-spouse</td>\n",
       "      <td>Craft-repair</td>\n",
       "      <td>White</td>\n",
       "      <td>Husband</td>\n",
       "      <td>&lt;=50K</td>\n",
       "      <td>Male</td>\n",
       "      <td>Private</td>\n",
       "    </tr>\n",
       "    <tr>\n",
       "      <th>2</th>\n",
       "      <td>21</td>\n",
       "      <td>0</td>\n",
       "      <td>0</td>\n",
       "      <td>United-States</td>\n",
       "      <td>HS-grad</td>\n",
       "      <td>9</td>\n",
       "      <td>34506</td>\n",
       "      <td>35</td>\n",
       "      <td>Separated</td>\n",
       "      <td>Other-service</td>\n",
       "      <td>White</td>\n",
       "      <td>Own-child</td>\n",
       "      <td>&lt;=50K</td>\n",
       "      <td>Female</td>\n",
       "      <td>Private</td>\n",
       "    </tr>\n",
       "    <tr>\n",
       "      <th>3</th>\n",
       "      <td>21</td>\n",
       "      <td>0</td>\n",
       "      <td>0</td>\n",
       "      <td>?</td>\n",
       "      <td>12th</td>\n",
       "      <td>8</td>\n",
       "      <td>202570</td>\n",
       "      <td>48</td>\n",
       "      <td>Never-married</td>\n",
       "      <td>Adm-clerical</td>\n",
       "      <td>Black</td>\n",
       "      <td>Other-relative</td>\n",
       "      <td>&lt;=50K</td>\n",
       "      <td>Male</td>\n",
       "      <td>Private</td>\n",
       "    </tr>\n",
       "    <tr>\n",
       "      <th>4</th>\n",
       "      <td>24</td>\n",
       "      <td>0</td>\n",
       "      <td>0</td>\n",
       "      <td>United-States</td>\n",
       "      <td>Some-college</td>\n",
       "      <td>10</td>\n",
       "      <td>117167</td>\n",
       "      <td>53</td>\n",
       "      <td>Never-married</td>\n",
       "      <td>Other-service</td>\n",
       "      <td>White</td>\n",
       "      <td>Not-in-family</td>\n",
       "      <td>&lt;=50K</td>\n",
       "      <td>Female</td>\n",
       "      <td>Private</td>\n",
       "    </tr>\n",
       "  </tbody>\n",
       "</table>\n",
       "</div>"
      ],
      "text/plain": [
       "   age  capital_gain  capital_loss         country      education  \\\n",
       "0   40             0             0   United-States      Bachelors   \n",
       "1   36             0             0   United-States        HS-grad   \n",
       "2   21             0             0   United-States        HS-grad   \n",
       "3   21             0             0               ?           12th   \n",
       "4   24             0             0   United-States   Some-college   \n",
       "\n",
       "   education_num  fnlwgt  hours_per_week       marital_status      occupation  \\\n",
       "0             13  289403              35            Separated    Adm-clerical   \n",
       "1              9  171968              40   Married-civ-spouse    Craft-repair   \n",
       "2              9   34506              35            Separated   Other-service   \n",
       "3              8  202570              48        Never-married    Adm-clerical   \n",
       "4             10  117167              53        Never-married   Other-service   \n",
       "\n",
       "     race     relationship  salary      sex workclass  \n",
       "0   Black        Unmarried   <=50K     Male   Private  \n",
       "1   White          Husband   <=50K     Male   Private  \n",
       "2   White        Own-child   <=50K   Female   Private  \n",
       "3   Black   Other-relative   <=50K     Male   Private  \n",
       "4   White    Not-in-family   <=50K   Female   Private  "
      ]
     },
     "execution_count": 10,
     "metadata": {},
     "output_type": "execute_result"
    }
   ],
   "source": [
    "df.head()"
   ]
  },
  {
   "cell_type": "code",
   "execution_count": 11,
   "id": "87379c6d",
   "metadata": {
    "colab": {
     "base_uri": "https://localhost:8080/",
     "height": 462
    },
    "id": "87379c6d",
    "outputId": "58225c95-7032-4392-def9-cb6ef0aee0b0"
   },
   "outputs": [
    {
     "data": {
      "text/plain": [
       "<matplotlib.axes._subplots.AxesSubplot at 0x7fd2a8879e90>"
      ]
     },
     "execution_count": 11,
     "metadata": {},
     "output_type": "execute_result"
    },
    {
     "data": {
      "image/png": "[encoded data removed]",
      "text/plain": [
       "<Figure size 1080x432 with 1 Axes>"
      ]
     },
     "metadata": {
      "needs_background": "light"
     },
     "output_type": "display_data"
    }
   ],
   "source": [
    "# checking for missing values in data\n",
    "\n",
    "plt.figure(figsize = (15,6))\n",
    "sns.heatmap(df.isnull(),yticklabels = False , cbar = False)"
   ]
  },
  {
   "cell_type": "code",
   "execution_count": 12,
   "id": "b0749d96",
   "metadata": {
    "colab": {
     "base_uri": "https://localhost:8080/"
    },
    "id": "b0749d96",
    "outputId": "ba927a96-9105-4e9e-d187-875b5e54a210"
   },
   "outputs": [
    {
     "data": {
      "text/plain": [
       " Married-civ-spouse       0.459937\n",
       " Never-married            0.328092\n",
       " Divorced                 0.136452\n",
       " Separated                0.031479\n",
       " Widowed                  0.030497\n",
       " Married-spouse-absent    0.012837\n",
       " Married-AF-spouse        0.000706\n",
       "Name: marital_status, dtype: float64"
      ]
     },
     "execution_count": 12,
     "metadata": {},
     "output_type": "execute_result"
    }
   ],
   "source": [
    "# Checking value counts of different values in percentage\n",
    "df['marital_status'].value_counts(normalize=True)"
   ]
  },
  {
   "cell_type": "code",
   "execution_count": 13,
   "id": "c3bcb490",
   "metadata": {
    "colab": {
     "base_uri": "https://localhost:8080/",
     "height": 893
    },
    "id": "c3bcb490",
    "outputId": "be703f20-c2eb-4a34-e304-50c80235c6f3"
   },
   "outputs": [
    {
     "data": {
      "image/png": "[encoded data removed]",
      "text/plain": [
       "<Figure size 1080x1080 with 2 Axes>"
      ]
     },
     "metadata": {
      "needs_background": "light"
     },
     "output_type": "display_data"
    }
   ],
   "source": [
    "fig, axes = plt.subplots(nrows = 2, ncols = 1, figsize = (15,15))\n",
    "ax1 = axes[0]\n",
    "ax2 = axes[1]\n",
    "sns.countplot(x = 'salary', hue = 'marital_status', data = df, ax = ax2)\n",
    "ax2.set_title('Count plot of various categories with respect to target feature')\n",
    "ax1.pie(x = df['marital_status'].value_counts(normalize=True), labels = df['marital_status'].value_counts().index,\\\n",
    "       autopct='%1.1f%%', radius = 1)\n",
    "ax1.set_title('Percentage of value counts of various categories in marital-status')\n",
    "plt.show()"
   ]
  },
  {
   "cell_type": "markdown",
   "id": "436bcda2",
   "metadata": {
    "id": "436bcda2"
   },
   "source": [
    "From the graphs above, we observe that the category marred-civ-spouse have a greater probability of earning greater then 50K per annum."
   ]
  },
  {
   "cell_type": "code",
   "execution_count": 14,
   "id": "84cceebc",
   "metadata": {
    "colab": {
     "base_uri": "https://localhost:8080/"
    },
    "id": "84cceebc",
    "outputId": "ed6c8cff-6b22-48fb-efe5-b84a358cec25"
   },
   "outputs": [
    {
     "data": {
      "text/plain": [
       "array([' Separated', ' Married-civ-spouse', ' Never-married', ' Divorced',\n",
       "       ' Married-spouse-absent', ' Widowed', ' Married-AF-spouse'],\n",
       "      dtype=object)"
      ]
     },
     "execution_count": 14,
     "metadata": {},
     "output_type": "execute_result"
    }
   ],
   "source": [
    "# Analyzing column marital_status\n",
    "df['marital_status'].unique()"
   ]
  },
  {
   "cell_type": "code",
   "execution_count": 15,
   "id": "8022224a",
   "metadata": {
    "colab": {
     "base_uri": "https://localhost:8080/",
     "height": 309
    },
    "id": "8022224a",
    "outputId": "1bd9a95b-ad4c-4bfd-fb2f-7ae768a5f3b1"
   },
   "outputs": [
    {
     "data": {
      "text/html": [
       "<div>\n",
       "<style scoped>\n",
       "    .dataframe tbody tr th:only-of-type {\n",
       "        vertical-align: middle;\n",
       "    }\n",
       "\n",
       "    .dataframe tbody tr th {\n",
       "        vertical-align: top;\n",
       "    }\n",
       "\n",
       "    .dataframe thead th {\n",
       "        text-align: right;\n",
       "    }\n",
       "</style>\n",
       "<table border=\"1\" class=\"dataframe\">\n",
       "  <thead>\n",
       "    <tr style=\"text-align: right;\">\n",
       "      <th></th>\n",
       "      <th>age</th>\n",
       "      <th>capital_gain</th>\n",
       "      <th>capital_loss</th>\n",
       "      <th>country</th>\n",
       "      <th>education</th>\n",
       "      <th>education_num</th>\n",
       "      <th>fnlwgt</th>\n",
       "      <th>hours_per_week</th>\n",
       "      <th>marital_status</th>\n",
       "      <th>occupation</th>\n",
       "      <th>race</th>\n",
       "      <th>relationship</th>\n",
       "      <th>salary</th>\n",
       "      <th>sex</th>\n",
       "      <th>workclass</th>\n",
       "    </tr>\n",
       "  </thead>\n",
       "  <tbody>\n",
       "    <tr>\n",
       "      <th>0</th>\n",
       "      <td>40</td>\n",
       "      <td>0</td>\n",
       "      <td>0</td>\n",
       "      <td>United-States</td>\n",
       "      <td>Bachelors</td>\n",
       "      <td>13</td>\n",
       "      <td>289403</td>\n",
       "      <td>35</td>\n",
       "      <td>single</td>\n",
       "      <td>Adm-clerical</td>\n",
       "      <td>Black</td>\n",
       "      <td>Unmarried</td>\n",
       "      <td>&lt;=50K</td>\n",
       "      <td>Male</td>\n",
       "      <td>Private</td>\n",
       "    </tr>\n",
       "    <tr>\n",
       "      <th>1</th>\n",
       "      <td>36</td>\n",
       "      <td>0</td>\n",
       "      <td>0</td>\n",
       "      <td>United-States</td>\n",
       "      <td>HS-grad</td>\n",
       "      <td>9</td>\n",
       "      <td>171968</td>\n",
       "      <td>40</td>\n",
       "      <td>married</td>\n",
       "      <td>Craft-repair</td>\n",
       "      <td>White</td>\n",
       "      <td>Husband</td>\n",
       "      <td>&lt;=50K</td>\n",
       "      <td>Male</td>\n",
       "      <td>Private</td>\n",
       "    </tr>\n",
       "    <tr>\n",
       "      <th>2</th>\n",
       "      <td>21</td>\n",
       "      <td>0</td>\n",
       "      <td>0</td>\n",
       "      <td>United-States</td>\n",
       "      <td>HS-grad</td>\n",
       "      <td>9</td>\n",
       "      <td>34506</td>\n",
       "      <td>35</td>\n",
       "      <td>single</td>\n",
       "      <td>Other-service</td>\n",
       "      <td>White</td>\n",
       "      <td>Own-child</td>\n",
       "      <td>&lt;=50K</td>\n",
       "      <td>Female</td>\n",
       "      <td>Private</td>\n",
       "    </tr>\n",
       "    <tr>\n",
       "      <th>3</th>\n",
       "      <td>21</td>\n",
       "      <td>0</td>\n",
       "      <td>0</td>\n",
       "      <td>?</td>\n",
       "      <td>12th</td>\n",
       "      <td>8</td>\n",
       "      <td>202570</td>\n",
       "      <td>48</td>\n",
       "      <td>single</td>\n",
       "      <td>Adm-clerical</td>\n",
       "      <td>Black</td>\n",
       "      <td>Other-relative</td>\n",
       "      <td>&lt;=50K</td>\n",
       "      <td>Male</td>\n",
       "      <td>Private</td>\n",
       "    </tr>\n",
       "    <tr>\n",
       "      <th>4</th>\n",
       "      <td>24</td>\n",
       "      <td>0</td>\n",
       "      <td>0</td>\n",
       "      <td>United-States</td>\n",
       "      <td>Some-college</td>\n",
       "      <td>10</td>\n",
       "      <td>117167</td>\n",
       "      <td>53</td>\n",
       "      <td>single</td>\n",
       "      <td>Other-service</td>\n",
       "      <td>White</td>\n",
       "      <td>Not-in-family</td>\n",
       "      <td>&lt;=50K</td>\n",
       "      <td>Female</td>\n",
       "      <td>Private</td>\n",
       "    </tr>\n",
       "  </tbody>\n",
       "</table>\n",
       "</div>"
      ],
      "text/plain": [
       "   age  capital_gain  capital_loss         country      education  \\\n",
       "0   40             0             0   United-States      Bachelors   \n",
       "1   36             0             0   United-States        HS-grad   \n",
       "2   21             0             0   United-States        HS-grad   \n",
       "3   21             0             0               ?           12th   \n",
       "4   24             0             0   United-States   Some-college   \n",
       "\n",
       "   education_num  fnlwgt  hours_per_week marital_status      occupation  \\\n",
       "0             13  289403              35         single    Adm-clerical   \n",
       "1              9  171968              40        married    Craft-repair   \n",
       "2              9   34506              35         single   Other-service   \n",
       "3              8  202570              48         single    Adm-clerical   \n",
       "4             10  117167              53         single   Other-service   \n",
       "\n",
       "     race     relationship  salary      sex workclass  \n",
       "0   Black        Unmarried   <=50K     Male   Private  \n",
       "1   White          Husband   <=50K     Male   Private  \n",
       "2   White        Own-child   <=50K   Female   Private  \n",
       "3   Black   Other-relative   <=50K     Male   Private  \n",
       "4   White    Not-in-family   <=50K   Female   Private  "
      ]
     },
     "execution_count": 15,
     "metadata": {},
     "output_type": "execute_result"
    }
   ],
   "source": [
    "# classifying various categories in marital_status columns as single or married\n",
    "df.replace(to_replace=df['marital_status'].unique(),\\\n",
    "           value = ['single','married','single','single','single','married','single'], inplace=True)\n",
    "df.head()"
   ]
  },
  {
   "cell_type": "code",
   "execution_count": 16,
   "id": "574118f4",
   "metadata": {
    "colab": {
     "base_uri": "https://localhost:8080/",
     "height": 165
    },
    "id": "574118f4",
    "outputId": "242bcc16-fa2c-4a6c-94f1-8b9b8947b8ec"
   },
   "outputs": [
    {
     "data": {
      "text/html": [
       "<div>\n",
       "<style scoped>\n",
       "    .dataframe tbody tr th:only-of-type {\n",
       "        vertical-align: middle;\n",
       "    }\n",
       "\n",
       "    .dataframe tbody tr th {\n",
       "        vertical-align: top;\n",
       "    }\n",
       "\n",
       "    .dataframe thead th {\n",
       "        text-align: right;\n",
       "    }\n",
       "</style>\n",
       "<table border=\"1\" class=\"dataframe\">\n",
       "  <thead>\n",
       "    <tr style=\"text-align: right;\">\n",
       "      <th></th>\n",
       "      <th>age</th>\n",
       "      <th>capital_gain</th>\n",
       "      <th>capital_loss</th>\n",
       "      <th>country</th>\n",
       "      <th>education</th>\n",
       "      <th>education_num</th>\n",
       "      <th>fnlwgt</th>\n",
       "      <th>hours_per_week</th>\n",
       "      <th>marital_status</th>\n",
       "      <th>occupation</th>\n",
       "      <th>race</th>\n",
       "      <th>relationship</th>\n",
       "      <th>salary</th>\n",
       "      <th>sex</th>\n",
       "      <th>workclass</th>\n",
       "    </tr>\n",
       "  </thead>\n",
       "  <tbody>\n",
       "    <tr>\n",
       "      <th>0</th>\n",
       "      <td>40</td>\n",
       "      <td>0</td>\n",
       "      <td>0</td>\n",
       "      <td>United-States</td>\n",
       "      <td>Bachelors</td>\n",
       "      <td>13</td>\n",
       "      <td>289403</td>\n",
       "      <td>35</td>\n",
       "      <td>0</td>\n",
       "      <td>Adm-clerical</td>\n",
       "      <td>Black</td>\n",
       "      <td>Unmarried</td>\n",
       "      <td>&lt;=50K</td>\n",
       "      <td>Male</td>\n",
       "      <td>Private</td>\n",
       "    </tr>\n",
       "    <tr>\n",
       "      <th>1</th>\n",
       "      <td>36</td>\n",
       "      <td>0</td>\n",
       "      <td>0</td>\n",
       "      <td>United-States</td>\n",
       "      <td>HS-grad</td>\n",
       "      <td>9</td>\n",
       "      <td>171968</td>\n",
       "      <td>40</td>\n",
       "      <td>1</td>\n",
       "      <td>Craft-repair</td>\n",
       "      <td>White</td>\n",
       "      <td>Husband</td>\n",
       "      <td>&lt;=50K</td>\n",
       "      <td>Male</td>\n",
       "      <td>Private</td>\n",
       "    </tr>\n",
       "  </tbody>\n",
       "</table>\n",
       "</div>"
      ],
      "text/plain": [
       "   age  capital_gain  capital_loss         country   education  education_num  \\\n",
       "0   40             0             0   United-States   Bachelors             13   \n",
       "1   36             0             0   United-States     HS-grad              9   \n",
       "\n",
       "   fnlwgt  hours_per_week  marital_status     occupation    race relationship  \\\n",
       "0  289403              35               0   Adm-clerical   Black    Unmarried   \n",
       "1  171968              40               1   Craft-repair   White      Husband   \n",
       "\n",
       "   salary    sex workclass  \n",
       "0   <=50K   Male   Private  \n",
       "1   <=50K   Male   Private  "
      ]
     },
     "execution_count": 16,
     "metadata": {},
     "output_type": "execute_result"
    }
   ],
   "source": [
    "# encoding 0 for single and 1 for married\n",
    "df.replace(to_replace=['single', 'married'], value = [0,1], inplace = True)\n",
    "df.head(2)"
   ]
  },
  {
   "cell_type": "code",
   "execution_count": 17,
   "id": "9a997c2b",
   "metadata": {
    "colab": {
     "base_uri": "https://localhost:8080/",
     "height": 309
    },
    "id": "9a997c2b",
    "outputId": "544eec5c-1047-4560-c208-593219926694"
   },
   "outputs": [
    {
     "data": {
      "text/html": [
       "<div>\n",
       "<style scoped>\n",
       "    .dataframe tbody tr th:only-of-type {\n",
       "        vertical-align: middle;\n",
       "    }\n",
       "\n",
       "    .dataframe tbody tr th {\n",
       "        vertical-align: top;\n",
       "    }\n",
       "\n",
       "    .dataframe thead th {\n",
       "        text-align: right;\n",
       "    }\n",
       "</style>\n",
       "<table border=\"1\" class=\"dataframe\">\n",
       "  <thead>\n",
       "    <tr style=\"text-align: right;\">\n",
       "      <th></th>\n",
       "      <th>age</th>\n",
       "      <th>capital_gain</th>\n",
       "      <th>capital_loss</th>\n",
       "      <th>country</th>\n",
       "      <th>education</th>\n",
       "      <th>education_num</th>\n",
       "      <th>fnlwgt</th>\n",
       "      <th>hours_per_week</th>\n",
       "      <th>marital_status</th>\n",
       "      <th>occupation</th>\n",
       "      <th>race</th>\n",
       "      <th>relationship</th>\n",
       "      <th>salary</th>\n",
       "      <th>sex</th>\n",
       "      <th>workclass</th>\n",
       "    </tr>\n",
       "  </thead>\n",
       "  <tbody>\n",
       "    <tr>\n",
       "      <th>0</th>\n",
       "      <td>40</td>\n",
       "      <td>0</td>\n",
       "      <td>0</td>\n",
       "      <td>United-States</td>\n",
       "      <td>Bachelors</td>\n",
       "      <td>13</td>\n",
       "      <td>289403</td>\n",
       "      <td>35</td>\n",
       "      <td>0</td>\n",
       "      <td>Adm-clerical</td>\n",
       "      <td>Black</td>\n",
       "      <td>Unmarried</td>\n",
       "      <td>0</td>\n",
       "      <td>Male</td>\n",
       "      <td>Private</td>\n",
       "    </tr>\n",
       "    <tr>\n",
       "      <th>1</th>\n",
       "      <td>36</td>\n",
       "      <td>0</td>\n",
       "      <td>0</td>\n",
       "      <td>United-States</td>\n",
       "      <td>HS-grad</td>\n",
       "      <td>9</td>\n",
       "      <td>171968</td>\n",
       "      <td>40</td>\n",
       "      <td>1</td>\n",
       "      <td>Craft-repair</td>\n",
       "      <td>White</td>\n",
       "      <td>Husband</td>\n",
       "      <td>0</td>\n",
       "      <td>Male</td>\n",
       "      <td>Private</td>\n",
       "    </tr>\n",
       "    <tr>\n",
       "      <th>2</th>\n",
       "      <td>21</td>\n",
       "      <td>0</td>\n",
       "      <td>0</td>\n",
       "      <td>United-States</td>\n",
       "      <td>HS-grad</td>\n",
       "      <td>9</td>\n",
       "      <td>34506</td>\n",
       "      <td>35</td>\n",
       "      <td>0</td>\n",
       "      <td>Other-service</td>\n",
       "      <td>White</td>\n",
       "      <td>Own-child</td>\n",
       "      <td>0</td>\n",
       "      <td>Female</td>\n",
       "      <td>Private</td>\n",
       "    </tr>\n",
       "    <tr>\n",
       "      <th>3</th>\n",
       "      <td>21</td>\n",
       "      <td>0</td>\n",
       "      <td>0</td>\n",
       "      <td>?</td>\n",
       "      <td>12th</td>\n",
       "      <td>8</td>\n",
       "      <td>202570</td>\n",
       "      <td>48</td>\n",
       "      <td>0</td>\n",
       "      <td>Adm-clerical</td>\n",
       "      <td>Black</td>\n",
       "      <td>Other-relative</td>\n",
       "      <td>0</td>\n",
       "      <td>Male</td>\n",
       "      <td>Private</td>\n",
       "    </tr>\n",
       "    <tr>\n",
       "      <th>4</th>\n",
       "      <td>24</td>\n",
       "      <td>0</td>\n",
       "      <td>0</td>\n",
       "      <td>United-States</td>\n",
       "      <td>Some-college</td>\n",
       "      <td>10</td>\n",
       "      <td>117167</td>\n",
       "      <td>53</td>\n",
       "      <td>0</td>\n",
       "      <td>Other-service</td>\n",
       "      <td>White</td>\n",
       "      <td>Not-in-family</td>\n",
       "      <td>0</td>\n",
       "      <td>Female</td>\n",
       "      <td>Private</td>\n",
       "    </tr>\n",
       "  </tbody>\n",
       "</table>\n",
       "</div>"
      ],
      "text/plain": [
       "   age  capital_gain  capital_loss         country      education  \\\n",
       "0   40             0             0   United-States      Bachelors   \n",
       "1   36             0             0   United-States        HS-grad   \n",
       "2   21             0             0   United-States        HS-grad   \n",
       "3   21             0             0               ?           12th   \n",
       "4   24             0             0   United-States   Some-college   \n",
       "\n",
       "   education_num  fnlwgt  hours_per_week  marital_status      occupation  \\\n",
       "0             13  289403              35               0    Adm-clerical   \n",
       "1              9  171968              40               1    Craft-repair   \n",
       "2              9   34506              35               0   Other-service   \n",
       "3              8  202570              48               0    Adm-clerical   \n",
       "4             10  117167              53               0   Other-service   \n",
       "\n",
       "     race     relationship  salary      sex workclass  \n",
       "0   Black        Unmarried       0     Male   Private  \n",
       "1   White          Husband       0     Male   Private  \n",
       "2   White        Own-child       0   Female   Private  \n",
       "3   Black   Other-relative       0     Male   Private  \n",
       "4   White    Not-in-family       0   Female   Private  "
      ]
     },
     "execution_count": 17,
     "metadata": {},
     "output_type": "execute_result"
    }
   ],
   "source": [
    "# Converting values from salary column(target feature) to binary values\n",
    "# Substituting 0 where salary is <=50K and 1 where salary is more than 50K\n",
    "\n",
    "df.replace(to_replace=[' <=50K', ' >50K'], value = [0, 1], inplace = True)\n",
    "df.head()"
   ]
  },
  {
   "cell_type": "code",
   "execution_count": 18,
   "id": "75254894",
   "metadata": {
    "id": "75254894"
   },
   "outputs": [],
   "source": [
    "# creating a new feature gain/loss\n",
    "\n",
    "gain_or_loss = np.zeros(len(df))\n",
    "gain_index = df[df['capital_gain'] != 0].index\n",
    "loss_index = df[df['capital_loss'] != 0].index\n",
    "for index in gain_index:\n",
    "    gain_or_loss[index] = 1\n",
    "for index in loss_index:\n",
    "    gain_or_loss[index] = -1\n",
    "    \n",
    "df['gain/loss'] = gain_or_loss.astype(int)"
   ]
  },
  {
   "cell_type": "code",
   "execution_count": 19,
   "id": "1ffe1c09",
   "metadata": {
    "colab": {
     "base_uri": "https://localhost:8080/",
     "height": 334
    },
    "id": "1ffe1c09",
    "outputId": "68038100-9cc7-4096-fae9-2289e0388243"
   },
   "outputs": [
    {
     "data": {
      "image/png": "[encoded data removed]",
      "text/plain": [
       "<Figure size 720x360 with 1 Axes>"
      ]
     },
     "metadata": {
      "needs_background": "light"
     },
     "output_type": "display_data"
    }
   ],
   "source": [
    "# Analysing salary with respect to gain/loss column\n",
    "plt.figure(figsize = (10,5))\n",
    "sns.set_style(style = 'darkgrid')\n",
    "sns.countplot(x = 'gain/loss', hue = 'salary', data = df)\n",
    "plt.grid(True)"
   ]
  },
  {
   "cell_type": "markdown",
   "id": "9f3a7f8a",
   "metadata": {
    "id": "9f3a7f8a"
   },
   "source": [
    "As we can see from the other graph :\n",
    "• Number of people earning more or less than 50K and are facing a loss are same\n",
    "• Generally people who are in no profit-no loss condition earn less than 50K, lack of assets and capital might be the reason for this\n",
    "• As, seen from the graph, people who are having capital gains tend to earn more."
   ]
  },
  {
   "cell_type": "code",
   "execution_count": 20,
   "id": "44634759",
   "metadata": {
    "colab": {
     "base_uri": "https://localhost:8080/",
     "height": 419
    },
    "id": "44634759",
    "outputId": "f079d996-6693-4e6b-da49-b2158311b14a"
   },
   "outputs": [
    {
     "name": "stdout",
     "output_type": "stream",
     "text": [
      "--------------------------------------------------\n",
      "value counts in sex column in percentage\n"
     ]
    },
    {
     "data": {
      "text/plain": [
       " Male      66.920549\n",
       " Female    33.079451\n",
       "Name: sex, dtype: float64"
      ]
     },
     "metadata": {},
     "output_type": "display_data"
    },
    {
     "data": {
      "image/png": "[encoded data removed]",
      "text/plain": [
       "<Figure size 864x360 with 1 Axes>"
      ]
     },
     "metadata": {},
     "output_type": "display_data"
    }
   ],
   "source": [
    "# Analyzing sex column\n",
    "\n",
    "plt.figure(figsize = (12,5))\n",
    "sns.countplot(x = 'salary', hue = 'sex', data = df)\n",
    "print('-'*50)\n",
    "print('value counts in sex column in percentage')\n",
    "display(df['sex'].value_counts(normalize=True)*100)"
   ]
  },
  {
   "cell_type": "markdown",
   "id": "1d576b11",
   "metadata": {
    "id": "1d576b11"
   },
   "source": [
    "Thus, males have a higher probability of earning more than 50K, according to the data given"
   ]
  },
  {
   "cell_type": "code",
   "execution_count": 21,
   "id": "68c25ae8",
   "metadata": {
    "colab": {
     "base_uri": "https://localhost:8080/",
     "height": 309
    },
    "id": "68c25ae8",
    "outputId": "f9029f72-bf36-43c5-dcd8-1c747a939dcd"
   },
   "outputs": [
    {
     "data": {
      "text/html": [
       "<div>\n",
       "<style scoped>\n",
       "    .dataframe tbody tr th:only-of-type {\n",
       "        vertical-align: middle;\n",
       "    }\n",
       "\n",
       "    .dataframe tbody tr th {\n",
       "        vertical-align: top;\n",
       "    }\n",
       "\n",
       "    .dataframe thead th {\n",
       "        text-align: right;\n",
       "    }\n",
       "</style>\n",
       "<table border=\"1\" class=\"dataframe\">\n",
       "  <thead>\n",
       "    <tr style=\"text-align: right;\">\n",
       "      <th></th>\n",
       "      <th>age</th>\n",
       "      <th>capital_gain</th>\n",
       "      <th>capital_loss</th>\n",
       "      <th>country</th>\n",
       "      <th>education</th>\n",
       "      <th>education_num</th>\n",
       "      <th>fnlwgt</th>\n",
       "      <th>hours_per_week</th>\n",
       "      <th>marital_status</th>\n",
       "      <th>occupation</th>\n",
       "      <th>race</th>\n",
       "      <th>relationship</th>\n",
       "      <th>salary</th>\n",
       "      <th>sex</th>\n",
       "      <th>workclass</th>\n",
       "      <th>gain/loss</th>\n",
       "    </tr>\n",
       "  </thead>\n",
       "  <tbody>\n",
       "    <tr>\n",
       "      <th>0</th>\n",
       "      <td>40</td>\n",
       "      <td>0</td>\n",
       "      <td>0</td>\n",
       "      <td>United-States</td>\n",
       "      <td>Bachelors</td>\n",
       "      <td>13</td>\n",
       "      <td>289403</td>\n",
       "      <td>35</td>\n",
       "      <td>0</td>\n",
       "      <td>Adm-clerical</td>\n",
       "      <td>Black</td>\n",
       "      <td>Unmarried</td>\n",
       "      <td>0</td>\n",
       "      <td>1</td>\n",
       "      <td>Private</td>\n",
       "      <td>0</td>\n",
       "    </tr>\n",
       "    <tr>\n",
       "      <th>1</th>\n",
       "      <td>36</td>\n",
       "      <td>0</td>\n",
       "      <td>0</td>\n",
       "      <td>United-States</td>\n",
       "      <td>HS-grad</td>\n",
       "      <td>9</td>\n",
       "      <td>171968</td>\n",
       "      <td>40</td>\n",
       "      <td>1</td>\n",
       "      <td>Craft-repair</td>\n",
       "      <td>White</td>\n",
       "      <td>Husband</td>\n",
       "      <td>0</td>\n",
       "      <td>1</td>\n",
       "      <td>Private</td>\n",
       "      <td>0</td>\n",
       "    </tr>\n",
       "    <tr>\n",
       "      <th>2</th>\n",
       "      <td>21</td>\n",
       "      <td>0</td>\n",
       "      <td>0</td>\n",
       "      <td>United-States</td>\n",
       "      <td>HS-grad</td>\n",
       "      <td>9</td>\n",
       "      <td>34506</td>\n",
       "      <td>35</td>\n",
       "      <td>0</td>\n",
       "      <td>Other-service</td>\n",
       "      <td>White</td>\n",
       "      <td>Own-child</td>\n",
       "      <td>0</td>\n",
       "      <td>0</td>\n",
       "      <td>Private</td>\n",
       "      <td>0</td>\n",
       "    </tr>\n",
       "    <tr>\n",
       "      <th>3</th>\n",
       "      <td>21</td>\n",
       "      <td>0</td>\n",
       "      <td>0</td>\n",
       "      <td>?</td>\n",
       "      <td>12th</td>\n",
       "      <td>8</td>\n",
       "      <td>202570</td>\n",
       "      <td>48</td>\n",
       "      <td>0</td>\n",
       "      <td>Adm-clerical</td>\n",
       "      <td>Black</td>\n",
       "      <td>Other-relative</td>\n",
       "      <td>0</td>\n",
       "      <td>1</td>\n",
       "      <td>Private</td>\n",
       "      <td>0</td>\n",
       "    </tr>\n",
       "    <tr>\n",
       "      <th>4</th>\n",
       "      <td>24</td>\n",
       "      <td>0</td>\n",
       "      <td>0</td>\n",
       "      <td>United-States</td>\n",
       "      <td>Some-college</td>\n",
       "      <td>10</td>\n",
       "      <td>117167</td>\n",
       "      <td>53</td>\n",
       "      <td>0</td>\n",
       "      <td>Other-service</td>\n",
       "      <td>White</td>\n",
       "      <td>Not-in-family</td>\n",
       "      <td>0</td>\n",
       "      <td>0</td>\n",
       "      <td>Private</td>\n",
       "      <td>0</td>\n",
       "    </tr>\n",
       "  </tbody>\n",
       "</table>\n",
       "</div>"
      ],
      "text/plain": [
       "   age  capital_gain  capital_loss         country      education  \\\n",
       "0   40             0             0   United-States      Bachelors   \n",
       "1   36             0             0   United-States        HS-grad   \n",
       "2   21             0             0   United-States        HS-grad   \n",
       "3   21             0             0               ?           12th   \n",
       "4   24             0             0   United-States   Some-college   \n",
       "\n",
       "   education_num  fnlwgt  hours_per_week  marital_status      occupation  \\\n",
       "0             13  289403              35               0    Adm-clerical   \n",
       "1              9  171968              40               1    Craft-repair   \n",
       "2              9   34506              35               0   Other-service   \n",
       "3              8  202570              48               0    Adm-clerical   \n",
       "4             10  117167              53               0   Other-service   \n",
       "\n",
       "     race     relationship  salary  sex workclass  gain/loss  \n",
       "0   Black        Unmarried       0    1   Private          0  \n",
       "1   White          Husband       0    1   Private          0  \n",
       "2   White        Own-child       0    0   Private          0  \n",
       "3   Black   Other-relative       0    1   Private          0  \n",
       "4   White    Not-in-family       0    0   Private          0  "
      ]
     },
     "execution_count": 21,
     "metadata": {},
     "output_type": "execute_result"
    }
   ],
   "source": [
    "# converting sex columns into binary values\n",
    "\n",
    "df.replace(to_replace = [' Female', ' Male'], value = [0, 1], inplace = True)\n",
    "df.head()"
   ]
  },
  {
   "cell_type": "code",
   "execution_count": 22,
   "id": "53da7b06",
   "metadata": {
    "colab": {
     "base_uri": "https://localhost:8080/",
     "height": 545
    },
    "id": "53da7b06",
    "outputId": "04a0236a-d06c-4267-ea1d-068cfe6aaf49"
   },
   "outputs": [
    {
     "data": {
      "text/html": [
       "<div>\n",
       "<style scoped>\n",
       "    .dataframe tbody tr th:only-of-type {\n",
       "        vertical-align: middle;\n",
       "    }\n",
       "\n",
       "    .dataframe tbody tr th {\n",
       "        vertical-align: top;\n",
       "    }\n",
       "\n",
       "    .dataframe thead th {\n",
       "        text-align: right;\n",
       "    }\n",
       "</style>\n",
       "<table border=\"1\" class=\"dataframe\">\n",
       "  <thead>\n",
       "    <tr style=\"text-align: right;\">\n",
       "      <th></th>\n",
       "      <th>education</th>\n",
       "      <th>mean</th>\n",
       "    </tr>\n",
       "  </thead>\n",
       "  <tbody>\n",
       "    <tr>\n",
       "      <th>0</th>\n",
       "      <td>Preschool</td>\n",
       "      <td>1.0</td>\n",
       "    </tr>\n",
       "    <tr>\n",
       "      <th>1</th>\n",
       "      <td>1st-4th</td>\n",
       "      <td>2.0</td>\n",
       "    </tr>\n",
       "    <tr>\n",
       "      <th>2</th>\n",
       "      <td>5th-6th</td>\n",
       "      <td>3.0</td>\n",
       "    </tr>\n",
       "    <tr>\n",
       "      <th>3</th>\n",
       "      <td>7th-8th</td>\n",
       "      <td>4.0</td>\n",
       "    </tr>\n",
       "    <tr>\n",
       "      <th>4</th>\n",
       "      <td>9th</td>\n",
       "      <td>5.0</td>\n",
       "    </tr>\n",
       "    <tr>\n",
       "      <th>5</th>\n",
       "      <td>10th</td>\n",
       "      <td>6.0</td>\n",
       "    </tr>\n",
       "    <tr>\n",
       "      <th>6</th>\n",
       "      <td>11th</td>\n",
       "      <td>7.0</td>\n",
       "    </tr>\n",
       "    <tr>\n",
       "      <th>7</th>\n",
       "      <td>12th</td>\n",
       "      <td>8.0</td>\n",
       "    </tr>\n",
       "    <tr>\n",
       "      <th>8</th>\n",
       "      <td>HS-grad</td>\n",
       "      <td>9.0</td>\n",
       "    </tr>\n",
       "    <tr>\n",
       "      <th>9</th>\n",
       "      <td>Some-college</td>\n",
       "      <td>10.0</td>\n",
       "    </tr>\n",
       "    <tr>\n",
       "      <th>10</th>\n",
       "      <td>Assoc-voc</td>\n",
       "      <td>11.0</td>\n",
       "    </tr>\n",
       "    <tr>\n",
       "      <th>11</th>\n",
       "      <td>Assoc-acdm</td>\n",
       "      <td>12.0</td>\n",
       "    </tr>\n",
       "    <tr>\n",
       "      <th>12</th>\n",
       "      <td>Bachelors</td>\n",
       "      <td>13.0</td>\n",
       "    </tr>\n",
       "    <tr>\n",
       "      <th>13</th>\n",
       "      <td>Masters</td>\n",
       "      <td>14.0</td>\n",
       "    </tr>\n",
       "    <tr>\n",
       "      <th>14</th>\n",
       "      <td>Prof-school</td>\n",
       "      <td>15.0</td>\n",
       "    </tr>\n",
       "    <tr>\n",
       "      <th>15</th>\n",
       "      <td>Doctorate</td>\n",
       "      <td>16.0</td>\n",
       "    </tr>\n",
       "  </tbody>\n",
       "</table>\n",
       "</div>"
      ],
      "text/plain": [
       "        education  mean\n",
       "0       Preschool   1.0\n",
       "1         1st-4th   2.0\n",
       "2         5th-6th   3.0\n",
       "3         7th-8th   4.0\n",
       "4             9th   5.0\n",
       "5            10th   6.0\n",
       "6            11th   7.0\n",
       "7            12th   8.0\n",
       "8         HS-grad   9.0\n",
       "9    Some-college  10.0\n",
       "10      Assoc-voc  11.0\n",
       "11     Assoc-acdm  12.0\n",
       "12      Bachelors  13.0\n",
       "13        Masters  14.0\n",
       "14    Prof-school  15.0\n",
       "15      Doctorate  16.0"
      ]
     },
     "execution_count": 22,
     "metadata": {},
     "output_type": "execute_result"
    }
   ],
   "source": [
    "# We observe that higher the degree of a person, higher is the education_num\n",
    "# So we need not do any Label Encoding here, as ranks are already assigned in the desired format\n",
    "# Creating a dataframe to know which rank belongs to which degree\n",
    "\n",
    "df_education_labels = df.groupby(by = 'education').describe()['education_num']['mean'].sort_values().reset_index()\n",
    "df_education_labels"
   ]
  },
  {
   "cell_type": "code",
   "execution_count": 23,
   "id": "10963dde",
   "metadata": {
    "colab": {
     "base_uri": "https://localhost:8080/",
     "height": 309
    },
    "id": "10963dde",
    "outputId": "1eb6f3b4-f2c1-4bf5-bc62-ed26e15fee21",
    "scrolled": true
   },
   "outputs": [
    {
     "data": {
      "text/html": [
       "<div>\n",
       "<style scoped>\n",
       "    .dataframe tbody tr th:only-of-type {\n",
       "        vertical-align: middle;\n",
       "    }\n",
       "\n",
       "    .dataframe tbody tr th {\n",
       "        vertical-align: top;\n",
       "    }\n",
       "\n",
       "    .dataframe thead th {\n",
       "        text-align: right;\n",
       "    }\n",
       "</style>\n",
       "<table border=\"1\" class=\"dataframe\">\n",
       "  <thead>\n",
       "    <tr style=\"text-align: right;\">\n",
       "      <th></th>\n",
       "      <th>age</th>\n",
       "      <th>capital_gain</th>\n",
       "      <th>capital_loss</th>\n",
       "      <th>country</th>\n",
       "      <th>education</th>\n",
       "      <th>education_rank</th>\n",
       "      <th>fnlwgt</th>\n",
       "      <th>hours_per_week</th>\n",
       "      <th>marital_status</th>\n",
       "      <th>occupation</th>\n",
       "      <th>race</th>\n",
       "      <th>relationship</th>\n",
       "      <th>salary</th>\n",
       "      <th>sex</th>\n",
       "      <th>workclass</th>\n",
       "      <th>gain/loss</th>\n",
       "    </tr>\n",
       "  </thead>\n",
       "  <tbody>\n",
       "    <tr>\n",
       "      <th>0</th>\n",
       "      <td>40</td>\n",
       "      <td>0</td>\n",
       "      <td>0</td>\n",
       "      <td>United-States</td>\n",
       "      <td>Bachelors</td>\n",
       "      <td>13</td>\n",
       "      <td>289403</td>\n",
       "      <td>35</td>\n",
       "      <td>0</td>\n",
       "      <td>Adm-clerical</td>\n",
       "      <td>Black</td>\n",
       "      <td>Unmarried</td>\n",
       "      <td>0</td>\n",
       "      <td>1</td>\n",
       "      <td>Private</td>\n",
       "      <td>0</td>\n",
       "    </tr>\n",
       "    <tr>\n",
       "      <th>1</th>\n",
       "      <td>36</td>\n",
       "      <td>0</td>\n",
       "      <td>0</td>\n",
       "      <td>United-States</td>\n",
       "      <td>HS-grad</td>\n",
       "      <td>9</td>\n",
       "      <td>171968</td>\n",
       "      <td>40</td>\n",
       "      <td>1</td>\n",
       "      <td>Craft-repair</td>\n",
       "      <td>White</td>\n",
       "      <td>Husband</td>\n",
       "      <td>0</td>\n",
       "      <td>1</td>\n",
       "      <td>Private</td>\n",
       "      <td>0</td>\n",
       "    </tr>\n",
       "    <tr>\n",
       "      <th>2</th>\n",
       "      <td>21</td>\n",
       "      <td>0</td>\n",
       "      <td>0</td>\n",
       "      <td>United-States</td>\n",
       "      <td>HS-grad</td>\n",
       "      <td>9</td>\n",
       "      <td>34506</td>\n",
       "      <td>35</td>\n",
       "      <td>0</td>\n",
       "      <td>Other-service</td>\n",
       "      <td>White</td>\n",
       "      <td>Own-child</td>\n",
       "      <td>0</td>\n",
       "      <td>0</td>\n",
       "      <td>Private</td>\n",
       "      <td>0</td>\n",
       "    </tr>\n",
       "    <tr>\n",
       "      <th>3</th>\n",
       "      <td>21</td>\n",
       "      <td>0</td>\n",
       "      <td>0</td>\n",
       "      <td>?</td>\n",
       "      <td>12th</td>\n",
       "      <td>8</td>\n",
       "      <td>202570</td>\n",
       "      <td>48</td>\n",
       "      <td>0</td>\n",
       "      <td>Adm-clerical</td>\n",
       "      <td>Black</td>\n",
       "      <td>Other-relative</td>\n",
       "      <td>0</td>\n",
       "      <td>1</td>\n",
       "      <td>Private</td>\n",
       "      <td>0</td>\n",
       "    </tr>\n",
       "    <tr>\n",
       "      <th>4</th>\n",
       "      <td>24</td>\n",
       "      <td>0</td>\n",
       "      <td>0</td>\n",
       "      <td>United-States</td>\n",
       "      <td>Some-college</td>\n",
       "      <td>10</td>\n",
       "      <td>117167</td>\n",
       "      <td>53</td>\n",
       "      <td>0</td>\n",
       "      <td>Other-service</td>\n",
       "      <td>White</td>\n",
       "      <td>Not-in-family</td>\n",
       "      <td>0</td>\n",
       "      <td>0</td>\n",
       "      <td>Private</td>\n",
       "      <td>0</td>\n",
       "    </tr>\n",
       "  </tbody>\n",
       "</table>\n",
       "</div>"
      ],
      "text/plain": [
       "   age  capital_gain  capital_loss         country      education  \\\n",
       "0   40             0             0   United-States      Bachelors   \n",
       "1   36             0             0   United-States        HS-grad   \n",
       "2   21             0             0   United-States        HS-grad   \n",
       "3   21             0             0               ?           12th   \n",
       "4   24             0             0   United-States   Some-college   \n",
       "\n",
       "   education_rank  fnlwgt  hours_per_week  marital_status      occupation  \\\n",
       "0              13  289403              35               0    Adm-clerical   \n",
       "1               9  171968              40               1    Craft-repair   \n",
       "2               9   34506              35               0   Other-service   \n",
       "3               8  202570              48               0    Adm-clerical   \n",
       "4              10  117167              53               0   Other-service   \n",
       "\n",
       "     race     relationship  salary  sex workclass  gain/loss  \n",
       "0   Black        Unmarried       0    1   Private          0  \n",
       "1   White          Husband       0    1   Private          0  \n",
       "2   White        Own-child       0    0   Private          0  \n",
       "3   Black   Other-relative       0    1   Private          0  \n",
       "4   White    Not-in-family       0    0   Private          0  "
      ]
     },
     "execution_count": 23,
     "metadata": {},
     "output_type": "execute_result"
    }
   ],
   "source": [
    "# Naming education_num as education_rank\n",
    "\n",
    "df.rename(columns = {'education_num': 'education_rank'}, inplace=True)\n",
    "df.head()"
   ]
  },
  {
   "cell_type": "code",
   "execution_count": 24,
   "id": "fbddeca1",
   "metadata": {
    "colab": {
     "base_uri": "https://localhost:8080/",
     "height": 296
    },
    "id": "fbddeca1",
    "outputId": "b7029525-4a62-40f2-b10b-c419f37486e7"
   },
   "outputs": [
    {
     "data": {
      "text/plain": [
       "<matplotlib.axes._subplots.AxesSubplot at 0x7fd2a2185c90>"
      ]
     },
     "execution_count": 24,
     "metadata": {},
     "output_type": "execute_result"
    },
    {
     "data": {
      "image/png": "[encoded data removed]",
      "text/plain": [
       "<Figure size 1080x288 with 1 Axes>"
      ]
     },
     "metadata": {},
     "output_type": "display_data"
    }
   ],
   "source": [
    "plt.figure(figsize = (15,4))\n",
    "sns.set_style(style='whitegrid')\n",
    "sns.stripplot(x = 'salary', y = 'education_rank', data = df)"
   ]
  },
  {
   "cell_type": "markdown",
   "id": "50dfc3c7",
   "metadata": {
    "id": "50dfc3c7"
   },
   "source": [
    "So, as we can see, there are very few people who are earning more than 50K and are educated 7th-8th, this kind of maeks sense as it's pretty much difficult for one to earn this much having very less qualifications and is rarely found."
   ]
  },
  {
   "cell_type": "code",
   "execution_count": 25,
   "id": "2c6abfad",
   "metadata": {
    "colab": {
     "base_uri": "https://localhost:8080/",
     "height": 368
    },
    "id": "2c6abfad",
    "outputId": "6eea3492-5788-475a-f3e6-0fca8fdc0ff4"
   },
   "outputs": [
    {
     "data": {
      "image/png": "[encoded data removed]",
      "text/plain": [
       "<Figure size 1080x360 with 1 Axes>"
      ]
     },
     "metadata": {},
     "output_type": "display_data"
    },
    {
     "name": "stdout",
     "output_type": "stream",
     "text": [
      "____________________________________________________________________________________________________\n",
      "skewness in age column : 0.5587433694130484\n"
     ]
    }
   ],
   "source": [
    "# Doing univariate analysis on age column\n",
    "plt.figure(figsize = (15,5))\n",
    "sns.distplot(df['age'], kde = True)\n",
    "plt.show()\n",
    "print(\"_\"*100)\n",
    "print('skewness in age column :',df['age'].skew())"
   ]
  },
  {
   "cell_type": "markdown",
   "id": "c084a962",
   "metadata": {
    "id": "c084a962"
   },
   "source": [
    "From the graph, it is observed that data in this column is right skewed as the skewness is found out to be positive"
   ]
  },
  {
   "cell_type": "code",
   "execution_count": 26,
   "id": "59154927",
   "metadata": {
    "colab": {
     "base_uri": "https://localhost:8080/",
     "height": 372
    },
    "id": "59154927",
    "outputId": "e27c0979-07dd-4c7e-91b6-e74704b043ea",
    "scrolled": false
   },
   "outputs": [
    {
     "data": {
      "image/png": "[encoded data removed]",
      "text/plain": [
       "<Figure size 1080x360 with 1 Axes>"
      ]
     },
     "metadata": {},
     "output_type": "display_data"
    },
    {
     "name": "stdout",
     "output_type": "stream",
     "text": [
      "____________________________________________________________________________________________________\n",
      "skewness in age column : 0.22764253680450092\n"
     ]
    }
   ],
   "source": [
    "### Doing univariate analysis on workours column\n",
    "plt.figure(figsize = (15,5))\n",
    "sns.distplot(df['hours_per_week'], kde = True)\n",
    "plt.show()\n",
    "print(\"_\"*100)\n",
    "print('skewness in age column :',df['hours_per_week'].skew())"
   ]
  },
  {
   "cell_type": "markdown",
   "id": "c229ee00",
   "metadata": {
    "id": "c229ee00"
   },
   "source": [
    "From the above density plot, it can be clearly seen that most people work for around 40 hours per week, and there are very less people who work for more than 70 hours and less than 20 hours per week"
   ]
  },
  {
   "cell_type": "code",
   "execution_count": 27,
   "id": "047ed549",
   "metadata": {
    "colab": {
     "base_uri": "https://localhost:8080/"
    },
    "id": "047ed549",
    "outputId": "a1e008bd-0f45-4d7d-bc4a-90f2545ea648"
   },
   "outputs": [
    {
     "data": {
      "text/plain": [
       " Private             75.341666\n",
       " Self-emp-not-inc     7.803814\n",
       " Local-gov            6.427935\n",
       " State-gov            3.986364\n",
       " Self-emp-inc         3.427413\n",
       " Federal-gov          2.948312\n",
       " Without-pay          0.042996\n",
       " Never-worked         0.021498\n",
       "Name: workclass, dtype: float64"
      ]
     },
     "execution_count": 27,
     "metadata": {},
     "output_type": "execute_result"
    }
   ],
   "source": [
    "# Using simple imputer to replace question marks denoting missing data in the column workclass \n",
    "from sklearn.impute import SimpleImputer\n",
    "imputer = SimpleImputer(missing_values=' ?', strategy = 'most_frequent')\n",
    "workclass_imputed = imputer.fit_transform(df[['workclass']])\n",
    "df['workclass'] = workclass_imputed\n",
    "df['workclass'].value_counts(normalize=True)*100"
   ]
  },
  {
   "cell_type": "code",
   "execution_count": 28,
   "id": "7988c2c9",
   "metadata": {
    "id": "7988c2c9"
   },
   "outputs": [],
   "source": [
    "# Naming values in workclass column as others where value count is less than 2% of total values\n",
    "\n",
    "arr_others = df['workclass'].value_counts(normalize=True)[df['workclass'].value_counts(normalize=True)*100 < 2].index\n",
    "df.replace(to_replace = arr_others, value = ['others']*len(arr_others), inplace = True)"
   ]
  },
  {
   "cell_type": "code",
   "execution_count": 29,
   "id": "7185195f",
   "metadata": {
    "id": "7185195f"
   },
   "outputs": [],
   "source": [
    "# Doing one-hot encoding on workclass\n",
    "workclass = pd.get_dummies(df[['workclass']], drop_first=True)"
   ]
  },
  {
   "cell_type": "code",
   "execution_count": 30,
   "id": "MJOibgAN0UT-",
   "metadata": {
    "colab": {
     "base_uri": "https://localhost:8080/"
    },
    "id": "MJOibgAN0UT-",
    "outputId": "e5e4aee6-58d3-4ac1-9c28-77e86de1d0bf"
   },
   "outputs": [
    {
     "data": {
      "text/plain": [
       "Index(['workclass_ Local-gov', 'workclass_ Private', 'workclass_ Self-emp-inc',\n",
       "       'workclass_ Self-emp-not-inc', 'workclass_ State-gov',\n",
       "       'workclass_others'],\n",
       "      dtype='object')"
      ]
     },
     "execution_count": 30,
     "metadata": {},
     "output_type": "execute_result"
    }
   ],
   "source": [
    "#Checking different encoded categories in workclass dataframe\n",
    "workclass.columns"
   ]
  },
  {
   "cell_type": "code",
   "execution_count": 31,
   "id": "q5nVxc130WHb",
   "metadata": {
    "id": "q5nVxc130WHb"
   },
   "outputs": [],
   "source": [
    "# Renaming columns in workclass dataframe\n",
    "workclass.columns = ['Local_gov','Private','Self_emp_inc','Self_emp_not_in_inc','State_gov','others']"
   ]
  },
  {
   "cell_type": "code",
   "execution_count": 32,
   "id": "4f6503b3",
   "metadata": {
    "colab": {
     "base_uri": "https://localhost:8080/",
     "height": 334
    },
    "id": "4f6503b3",
    "outputId": "ccc4ebf0-bc70-4a73-aec8-25d791b32c91"
   },
   "outputs": [
    {
     "data": {
      "image/png": "[encoded data removed]",
      "text/plain": [
       "<Figure size 1080x360 with 1 Axes>"
      ]
     },
     "metadata": {},
     "output_type": "display_data"
    }
   ],
   "source": [
    "# checking for values in race column\n",
    "plt.figure(figsize = (15,5))\n",
    "sns.countplot(x = 'race', data = df)\n",
    "plt.show()"
   ]
  },
  {
   "cell_type": "markdown",
   "id": "4ced9328",
   "metadata": {
    "id": "4ced9328"
   },
   "source": [
    "As we can see that we have only 5 categories in the race column alongwith an other category, so we will do one-hot encoding in this column directly"
   ]
  },
  {
   "cell_type": "code",
   "execution_count": 33,
   "id": "76922f48",
   "metadata": {
    "id": "76922f48"
   },
   "outputs": [],
   "source": [
    "# doing one hot encoding on race column\n",
    "race = pd.get_dummies(df[['race']], drop_first = True)"
   ]
  },
  {
   "cell_type": "code",
   "execution_count": 34,
   "id": "UF3EEZYI0dcK",
   "metadata": {
    "colab": {
     "base_uri": "https://localhost:8080/"
    },
    "id": "UF3EEZYI0dcK",
    "outputId": "a99b71db-4bae-4f37-ca78-00d7f854710f"
   },
   "outputs": [
    {
     "data": {
      "text/plain": [
       "Index(['race_ Asian-Pac-Islander', 'race_ Black', 'race_ Other',\n",
       "       'race_ White'],\n",
       "      dtype='object')"
      ]
     },
     "execution_count": 34,
     "metadata": {},
     "output_type": "execute_result"
    }
   ],
   "source": [
    "# Checking for different encoded categories in race dataframe\n",
    "race.columns"
   ]
  },
  {
   "cell_type": "code",
   "execution_count": 35,
   "id": "0xCTaSea0fhd",
   "metadata": {
    "id": "0xCTaSea0fhd"
   },
   "outputs": [],
   "source": [
    "# Renaming columns in dataframe race\n",
    "race.columns = ['Asian_Pac_Islander','Black','Other','White']"
   ]
  },
  {
   "cell_type": "code",
   "execution_count": 36,
   "id": "f4c71e76",
   "metadata": {
    "colab": {
     "base_uri": "https://localhost:8080/"
    },
    "id": "f4c71e76",
    "outputId": "f52d675e-446f-4035-85a7-260b894bdcd9"
   },
   "outputs": [
    {
     "data": {
      "text/plain": [
       "array([' Adm-clerical', ' Craft-repair', ' Other-service',\n",
       "       ' Farming-fishing', ' Sales', ' ?', ' Prof-specialty',\n",
       "       ' Machine-op-inspct', ' Protective-serv', ' Transport-moving',\n",
       "       ' Exec-managerial', ' Tech-support', ' Handlers-cleaners',\n",
       "       ' Priv-house-serv', ' Armed-Forces'], dtype=object)"
      ]
     },
     "execution_count": 36,
     "metadata": {},
     "output_type": "execute_result"
    }
   ],
   "source": [
    "# working on occupation column\n",
    "\n",
    "df['occupation'].unique()"
   ]
  },
  {
   "cell_type": "code",
   "execution_count": 37,
   "id": "4beacba1",
   "metadata": {
    "id": "4beacba1"
   },
   "outputs": [],
   "source": [
    "# Substituting question marks with most frequent value in the occupation column using simple imputer\n",
    "\n",
    "imputer = SimpleImputer(missing_values=' ?', strategy = 'most_frequent')\n",
    "occupation_imputed = imputer.fit_transform(df[['occupation']])\n",
    "df['occupation'] = occupation_imputed"
   ]
  },
  {
   "cell_type": "code",
   "execution_count": 38,
   "id": "07539d0c",
   "metadata": {
    "colab": {
     "base_uri": "https://localhost:8080/",
     "height": 582
    },
    "id": "07539d0c",
    "outputId": "1bd8ea46-2eb3-4bb8-83f6-f59ef63371ab"
   },
   "outputs": [
    {
     "data": {
      "image/png": "[encoded data removed]",
      "text/plain": [
       "<Figure size 1080x216 with 1 Axes>"
      ]
     },
     "metadata": {},
     "output_type": "display_data"
    },
    {
     "name": "stdout",
     "output_type": "stream",
     "text": [
      "value counts in occupation column in percentage :\n"
     ]
    },
    {
     "data": {
      "text/plain": [
       " Prof-specialty       18.374743\n",
       " Craft-repair         12.588680\n",
       " Exec-managerial      12.487331\n",
       " Adm-clerical         11.578268\n",
       " Sales                11.209729\n",
       " Other-service        10.119468\n",
       " Machine-op-inspct     6.148460\n",
       " Transport-moving      4.904641\n",
       " Handlers-cleaners     4.207487\n",
       " Farming-fishing       3.052732\n",
       " Tech-support          2.850035\n",
       " Protective-serv       1.993182\n",
       " Priv-house-serv       0.457603\n",
       " Armed-Forces          0.027640\n",
       "Name: occupation, dtype: float64"
      ]
     },
     "metadata": {},
     "output_type": "display_data"
    }
   ],
   "source": [
    "plt.figure(figsize = (15,3))\n",
    "plt.xticks(rotation = 90)\n",
    "sns.countplot(x = 'occupation', data = df)\n",
    "plt.show()\n",
    "print(\"value counts in occupation column in percentage :\")\n",
    "display(df['occupation'].value_counts(normalize = True)*100)"
   ]
  },
  {
   "cell_type": "markdown",
   "id": "26c11f6a",
   "metadata": {
    "id": "26c11f6a"
   },
   "source": [
    "Since, there are not much categories in the occupation column and they aren't ordinal so just doing one-hot encoding on occupation column too"
   ]
  },
  {
   "cell_type": "code",
   "execution_count": 39,
   "id": "8daf54e6",
   "metadata": {
    "colab": {
     "base_uri": "https://localhost:8080/"
    },
    "id": "8daf54e6",
    "outputId": "f1198aad-2555-4052-ce87-72f4cb02e3ca"
   },
   "outputs": [
    {
     "data": {
      "text/plain": [
       "Index(['occupation_ Armed-Forces', 'occupation_ Craft-repair',\n",
       "       'occupation_ Exec-managerial', 'occupation_ Farming-fishing',\n",
       "       'occupation_ Handlers-cleaners', 'occupation_ Machine-op-inspct',\n",
       "       'occupation_ Other-service', 'occupation_ Priv-house-serv',\n",
       "       'occupation_ Prof-specialty', 'occupation_ Protective-serv',\n",
       "       'occupation_ Sales', 'occupation_ Tech-support',\n",
       "       'occupation_ Transport-moving'],\n",
       "      dtype='object')"
      ]
     },
     "execution_count": 39,
     "metadata": {},
     "output_type": "execute_result"
    }
   ],
   "source": [
    "# one-hot encoding on occupation column\n",
    "occupation = pd.get_dummies(df[['occupation']], drop_first = True)\n",
    "occupation.columns"
   ]
  },
  {
   "cell_type": "code",
   "execution_count": 40,
   "id": "PTz_5AzX0pM4",
   "metadata": {
    "id": "PTz_5AzX0pM4"
   },
   "outputs": [],
   "source": [
    "occupation.columns = ['Armed_Forces','Craft_repair','Exec_managerial','Farming_fishing','Handlers_cleaners','Machine_op_inspct',\\\n",
    "                      'Other_service','Priv_house_serv','Prof_specialty','Protective_serv','Sales','Tech_support',\\\n",
    "                      'Transport_moving']"
   ]
  },
  {
   "cell_type": "code",
   "execution_count": 41,
   "id": "1f7af928",
   "metadata": {
    "colab": {
     "base_uri": "https://localhost:8080/"
    },
    "id": "1f7af928",
    "outputId": "3138631d-5753-4e86-874c-d471dabcf05b"
   },
   "outputs": [
    {
     "data": {
      "text/plain": [
       " United-States                 89.585701\n",
       " Mexico                         1.974755\n",
       " ?                              1.790486\n",
       " Philippines                    0.608089\n",
       " Germany                        0.420749\n",
       " Canada                         0.371610\n",
       " Puerto-Rico                    0.350112\n",
       " El-Salvador                    0.325543\n",
       " India                          0.307116\n",
       " Cuba                           0.291760\n",
       " England                        0.276404\n",
       " Jamaica                        0.248764\n",
       " South                          0.245693\n",
       " China                          0.230337\n",
       " Italy                          0.224195\n",
       " Dominican-Republic             0.214981\n",
       " Vietnam                        0.205768\n",
       " Guatemala                      0.196554\n",
       " Japan                          0.190412\n",
       " Poland                         0.184270\n",
       " Columbia                       0.181198\n",
       " Taiwan                         0.156629\n",
       " Haiti                          0.135131\n",
       " Iran                           0.132060\n",
       " Portugal                       0.113633\n",
       " Nicaragua                      0.104419\n",
       " Peru                           0.095206\n",
       " Greece                         0.089064\n",
       " France                         0.089064\n",
       " Ecuador                        0.085992\n",
       " Ireland                        0.073708\n",
       " Hong                           0.061423\n",
       " Cambodia                       0.058352\n",
       " Trinadad&Tobago                0.058352\n",
       " Thailand                       0.055281\n",
       " Laos                           0.055281\n",
       " Yugoslavia                     0.049139\n",
       " Outlying-US(Guam-USVI-etc)     0.042996\n",
       " Honduras                       0.039925\n",
       " Hungary                        0.039925\n",
       " Scotland                       0.036854\n",
       " Holand-Netherlands             0.003071\n",
       "Name: country, dtype: float64"
      ]
     },
     "execution_count": 41,
     "metadata": {},
     "output_type": "execute_result"
    }
   ],
   "source": [
    "# displaying unique countries with value counts in percentage\n",
    "df['country'].value_counts(normalize = True)*100"
   ]
  },
  {
   "cell_type": "code",
   "execution_count": 42,
   "id": "e028e715",
   "metadata": {
    "id": "e028e715"
   },
   "outputs": [],
   "source": [
    "# imputing most frequent value in place of question marks\n",
    "imputer = SimpleImputer(missing_values=' ?', strategy = 'most_frequent')\n",
    "country_imputed = imputer.fit_transform(df[['country']])\n",
    "df['country'] = country_imputed"
   ]
  },
  {
   "cell_type": "code",
   "execution_count": 43,
   "id": "23ca65d5",
   "metadata": {
    "id": "23ca65d5"
   },
   "outputs": [],
   "source": [
    "# naming less frequent countries as others (having value counts less than 0.3% of total values)\n",
    "percentage_threshold = 0.3\n",
    "arr_others = df['country'].value_counts()[df['country'].value_counts(normalize=True)*100 < percentage_threshold].index\n",
    "df['country'].replace(to_replace=arr_others, value = ['others']*len(arr_others), inplace=True)"
   ]
  },
  {
   "cell_type": "code",
   "execution_count": 44,
   "id": "3eb216c0",
   "metadata": {
    "colab": {
     "base_uri": "https://localhost:8080/",
     "height": 296
    },
    "id": "3eb216c0",
    "outputId": "0f0155e7-7497-4f12-b0f5-e3b208f0424b"
   },
   "outputs": [
    {
     "data": {
      "text/plain": [
       "<matplotlib.axes._subplots.AxesSubplot at 0x7fd2a370d750>"
      ]
     },
     "execution_count": 44,
     "metadata": {},
     "output_type": "execute_result"
    },
    {
     "data": {
      "image/png": "[encoded data removed]",
      "text/plain": [
       "<Figure size 1080x288 with 1 Axes>"
      ]
     },
     "metadata": {},
     "output_type": "display_data"
    }
   ],
   "source": [
    "plt.figure(figsize = (15,4))\n",
    "sns.countplot(x= 'country', data = df)"
   ]
  },
  {
   "cell_type": "markdown",
   "id": "Q3xAbgHQldmH",
   "metadata": {
    "id": "Q3xAbgHQldmH"
   },
   "source": [
    "Clearly, from the graph, most of the data points that we have belong to United States in the country column"
   ]
  },
  {
   "cell_type": "code",
   "execution_count": 45,
   "id": "31fdb72b",
   "metadata": {
    "colab": {
     "base_uri": "https://localhost:8080/"
    },
    "id": "31fdb72b",
    "outputId": "95493804-b310-4645-c70a-3c20abe1ae20",
    "scrolled": true
   },
   "outputs": [
    {
     "data": {
      "text/plain": [
       "Index(['country_ El-Salvador', 'country_ Germany', 'country_ India',\n",
       "       'country_ Mexico', 'country_ Philippines', 'country_ Puerto-Rico',\n",
       "       'country_ United-States', 'country_others'],\n",
       "      dtype='object')"
      ]
     },
     "execution_count": 45,
     "metadata": {},
     "output_type": "execute_result"
    }
   ],
   "source": [
    "# Encoding countries in country column\n",
    "country = pd.get_dummies(df[['country']], drop_first=True)\n",
    "country.columns"
   ]
  },
  {
   "cell_type": "code",
   "execution_count": 46,
   "id": "n7JuIuwO06mi",
   "metadata": {
    "id": "n7JuIuwO06mi"
   },
   "outputs": [],
   "source": [
    "#Renaming columns in dataframe country\n",
    "country.columns = ['El Salvador','Germany','India','Mexico','Philippines','Puerto Rico','United States','others']"
   ]
  },
  {
   "cell_type": "code",
   "execution_count": 47,
   "id": "2e11b7c3",
   "metadata": {
    "colab": {
     "base_uri": "https://localhost:8080/",
     "height": 370
    },
    "id": "2e11b7c3",
    "outputId": "29353a72-8e72-4ffb-ce96-12e999e80344"
   },
   "outputs": [
    {
     "data": {
      "image/png": "[encoded data removed]",
      "text/plain": [
       "<Figure size 1080x360 with 2 Axes>"
      ]
     },
     "metadata": {},
     "output_type": "display_data"
    }
   ],
   "source": [
    "# Checking for imbalance in data\n",
    "fig, axes = plt.subplots(nrows = 1, ncols=2, figsize = (15,5))\n",
    "ax1 = axes[0]\n",
    "ax2 = axes[1]\n",
    "ax1.pie(df['salary'].value_counts(normalize=True), explode = [0, 0.15], autopct = '%1.2f%%', labels = ['<=50K', '50K'],\\\n",
    "        radius=1.2, shadow = True)\n",
    "sns.set_style(style = 'dark')\n",
    "sns.countplot('salary', data = df, ax = ax2)\n",
    "fig.suptitle('countplots of values in salary column', fontsize = 20)\n",
    "ax2.grid(True, color='black')\n",
    "plt.show()"
   ]
  },
  {
   "cell_type": "markdown",
   "id": "2e881666",
   "metadata": {
    "id": "2e881666"
   },
   "source": [
    "As we can observe from the graphs above, there is an imbalance in our dataset, where values having >50K in salary column being about 24% and values having <=50K in salary column being about 76% of total data respectively"
   ]
  },
  {
   "cell_type": "code",
   "execution_count": 48,
   "id": "44d901bb",
   "metadata": {
    "colab": {
     "base_uri": "https://localhost:8080/",
     "height": 165
    },
    "id": "44d901bb",
    "outputId": "f8c577f1-efac-4587-d479-b351e07b828e",
    "scrolled": true
   },
   "outputs": [
    {
     "data": {
      "text/html": [
       "<div>\n",
       "<style scoped>\n",
       "    .dataframe tbody tr th:only-of-type {\n",
       "        vertical-align: middle;\n",
       "    }\n",
       "\n",
       "    .dataframe tbody tr th {\n",
       "        vertical-align: top;\n",
       "    }\n",
       "\n",
       "    .dataframe thead th {\n",
       "        text-align: right;\n",
       "    }\n",
       "</style>\n",
       "<table border=\"1\" class=\"dataframe\">\n",
       "  <thead>\n",
       "    <tr style=\"text-align: right;\">\n",
       "      <th></th>\n",
       "      <th>age</th>\n",
       "      <th>capital_gain</th>\n",
       "      <th>capital_loss</th>\n",
       "      <th>country</th>\n",
       "      <th>education</th>\n",
       "      <th>education_rank</th>\n",
       "      <th>fnlwgt</th>\n",
       "      <th>hours_per_week</th>\n",
       "      <th>marital_status</th>\n",
       "      <th>occupation</th>\n",
       "      <th>race</th>\n",
       "      <th>relationship</th>\n",
       "      <th>salary</th>\n",
       "      <th>sex</th>\n",
       "      <th>workclass</th>\n",
       "      <th>gain/loss</th>\n",
       "    </tr>\n",
       "  </thead>\n",
       "  <tbody>\n",
       "    <tr>\n",
       "      <th>0</th>\n",
       "      <td>40</td>\n",
       "      <td>0</td>\n",
       "      <td>0</td>\n",
       "      <td>United-States</td>\n",
       "      <td>Bachelors</td>\n",
       "      <td>13</td>\n",
       "      <td>289403</td>\n",
       "      <td>35</td>\n",
       "      <td>0</td>\n",
       "      <td>Adm-clerical</td>\n",
       "      <td>Black</td>\n",
       "      <td>Unmarried</td>\n",
       "      <td>0</td>\n",
       "      <td>1</td>\n",
       "      <td>Private</td>\n",
       "      <td>0</td>\n",
       "    </tr>\n",
       "    <tr>\n",
       "      <th>1</th>\n",
       "      <td>36</td>\n",
       "      <td>0</td>\n",
       "      <td>0</td>\n",
       "      <td>United-States</td>\n",
       "      <td>HS-grad</td>\n",
       "      <td>9</td>\n",
       "      <td>171968</td>\n",
       "      <td>40</td>\n",
       "      <td>1</td>\n",
       "      <td>Craft-repair</td>\n",
       "      <td>White</td>\n",
       "      <td>Husband</td>\n",
       "      <td>0</td>\n",
       "      <td>1</td>\n",
       "      <td>Private</td>\n",
       "      <td>0</td>\n",
       "    </tr>\n",
       "  </tbody>\n",
       "</table>\n",
       "</div>"
      ],
      "text/plain": [
       "   age  capital_gain  capital_loss         country   education  \\\n",
       "0   40             0             0   United-States   Bachelors   \n",
       "1   36             0             0   United-States     HS-grad   \n",
       "\n",
       "   education_rank  fnlwgt  hours_per_week  marital_status     occupation  \\\n",
       "0              13  289403              35               0   Adm-clerical   \n",
       "1               9  171968              40               1   Craft-repair   \n",
       "\n",
       "     race relationship  salary  sex workclass  gain/loss  \n",
       "0   Black    Unmarried       0    1   Private          0  \n",
       "1   White      Husband       0    1   Private          0  "
      ]
     },
     "execution_count": 48,
     "metadata": {},
     "output_type": "execute_result"
    }
   ],
   "source": [
    "df.head(2)"
   ]
  },
  {
   "cell_type": "markdown",
   "id": "9c4f84ab",
   "metadata": {
    "id": "9c4f84ab"
   },
   "source": [
    "## Outlier Treatment"
   ]
  },
  {
   "cell_type": "code",
   "execution_count": 49,
   "id": "8anhXfRg6x7f",
   "metadata": {
    "colab": {
     "base_uri": "https://localhost:8080/"
    },
    "id": "8anhXfRg6x7f",
    "outputId": "e30fe29c-04c6-4217-fc82-a6e203cdb43b"
   },
   "outputs": [
    {
     "data": {
      "text/plain": [
       "Index(['age', 'capital_gain', 'capital_loss', 'country', 'education',\n",
       "       'education_rank', 'fnlwgt', 'hours_per_week', 'marital_status',\n",
       "       'occupation', 'race', 'relationship', 'salary', 'sex', 'workclass',\n",
       "       'gain/loss'],\n",
       "      dtype='object')"
      ]
     },
     "execution_count": 49,
     "metadata": {},
     "output_type": "execute_result"
    }
   ],
   "source": [
    "df.columns"
   ]
  },
  {
   "cell_type": "code",
   "execution_count": 50,
   "id": "79888d34",
   "metadata": {
    "colab": {
     "base_uri": "https://localhost:8080/",
     "height": 369
    },
    "id": "79888d34",
    "outputId": "b766e0a8-5a7e-49dd-8577-389ce3de78f5"
   },
   "outputs": [
    {
     "data": {
      "image/png": "[encoded data removed]",
      "text/plain": [
       "<Figure size 481.375x360 with 1 Axes>"
      ]
     },
     "metadata": {},
     "output_type": "display_data"
    }
   ],
   "source": [
    "sns.set_style('whitegrid')\n",
    "sns.relplot(x = 'age', y = 'hours_per_week', hue = 'workclass', data = df)\n",
    "plt.show()"
   ]
  },
  {
   "cell_type": "markdown",
   "id": "54b083d9",
   "metadata": {
    "id": "54b083d9"
   },
   "source": [
    "As we can see, in the above relplot, there are a lot of people working in private sector, local/state/federal governments having age as high as 90 which is not practically possible as at this age, people don't have the capability to do any work and moreover, they have reached far beyond their retirement age, so these are clear outliers in the dataset."
   ]
  },
  {
   "cell_type": "code",
   "execution_count": 51,
   "id": "6bfe9243",
   "metadata": {
    "id": "6bfe9243"
   },
   "outputs": [],
   "source": [
    "# Removing outliers from age column\n",
    "age_mean = df['age'].mean()\n",
    "age_std = df['age'].std()\n",
    "\n",
    "upper_bound = age_mean + 3*age_std\n",
    "lower_bound = age_mean - 3*age_std\n",
    "\n",
    "df = df[(df['age'] <= upper_bound) & (df['age'] >= lower_bound)]"
   ]
  },
  {
   "cell_type": "code",
   "execution_count": 52,
   "id": "3dde49ad",
   "metadata": {
    "colab": {
     "base_uri": "https://localhost:8080/",
     "height": 368
    },
    "id": "3dde49ad",
    "outputId": "6c4139e3-76ed-4f16-80cf-2fe70f4b4a6c"
   },
   "outputs": [
    {
     "data": {
      "image/png": "[encoded data removed]",
      "text/plain": [
       "<Figure size 1080x360 with 1 Axes>"
      ]
     },
     "metadata": {},
     "output_type": "display_data"
    },
    {
     "name": "stdout",
     "output_type": "stream",
     "text": [
      "______________________________________________________________________\n",
      "Skewness in age column after logarithmic transformation is : -0.15982139677512563\n"
     ]
    }
   ],
   "source": [
    "# Removing skewness from the age column by doing log transformation\n",
    "df['age'] = np.log(df['age'])\n",
    "plt.figure(figsize = (15,5))\n",
    "sns.distplot(df['age'])\n",
    "plt.show()\n",
    "print('_'*70)\n",
    "print('Skewness in age column after logarithmic transformation is :', df['age'].skew())"
   ]
  },
  {
   "cell_type": "markdown",
   "id": "fd10e8fb",
   "metadata": {
    "id": "fd10e8fb"
   },
   "source": [
    "From here, we can see that skewness in our age column has been removed to a great extent and has become close to zero and resembling a gaussian distribution. Now we'll proceed with removing outliers from this data"
   ]
  },
  {
   "cell_type": "markdown",
   "id": "2254f641",
   "metadata": {
    "id": "2254f641"
   },
   "source": [
    "## Feature Selection"
   ]
  },
  {
   "cell_type": "code",
   "execution_count": 53,
   "id": "6fe6079d",
   "metadata": {
    "colab": {
     "base_uri": "https://localhost:8080/",
     "height": 142
    },
    "id": "6fe6079d",
    "outputId": "f59ababf-095e-47a0-eceb-239105739585",
    "scrolled": false
   },
   "outputs": [
    {
     "data": {
      "text/html": [
       "<div>\n",
       "<style scoped>\n",
       "    .dataframe tbody tr th:only-of-type {\n",
       "        vertical-align: middle;\n",
       "    }\n",
       "\n",
       "    .dataframe tbody tr th {\n",
       "        vertical-align: top;\n",
       "    }\n",
       "\n",
       "    .dataframe thead th {\n",
       "        text-align: right;\n",
       "    }\n",
       "</style>\n",
       "<table border=\"1\" class=\"dataframe\">\n",
       "  <thead>\n",
       "    <tr style=\"text-align: right;\">\n",
       "      <th></th>\n",
       "      <th>age</th>\n",
       "      <th>education_rank</th>\n",
       "      <th>hours_per_week</th>\n",
       "      <th>marital_status</th>\n",
       "      <th>salary</th>\n",
       "      <th>sex</th>\n",
       "      <th>gain/loss</th>\n",
       "    </tr>\n",
       "  </thead>\n",
       "  <tbody>\n",
       "    <tr>\n",
       "      <th>0</th>\n",
       "      <td>3.688879</td>\n",
       "      <td>13</td>\n",
       "      <td>35</td>\n",
       "      <td>0</td>\n",
       "      <td>0</td>\n",
       "      <td>1</td>\n",
       "      <td>0</td>\n",
       "    </tr>\n",
       "    <tr>\n",
       "      <th>1</th>\n",
       "      <td>3.583519</td>\n",
       "      <td>9</td>\n",
       "      <td>40</td>\n",
       "      <td>1</td>\n",
       "      <td>0</td>\n",
       "      <td>1</td>\n",
       "      <td>0</td>\n",
       "    </tr>\n",
       "    <tr>\n",
       "      <th>2</th>\n",
       "      <td>3.044522</td>\n",
       "      <td>9</td>\n",
       "      <td>35</td>\n",
       "      <td>0</td>\n",
       "      <td>0</td>\n",
       "      <td>0</td>\n",
       "      <td>0</td>\n",
       "    </tr>\n",
       "  </tbody>\n",
       "</table>\n",
       "</div>"
      ],
      "text/plain": [
       "        age  education_rank  hours_per_week  marital_status  salary  sex  \\\n",
       "0  3.688879              13              35               0       0    1   \n",
       "1  3.583519               9              40               1       0    1   \n",
       "2  3.044522               9              35               0       0    0   \n",
       "\n",
       "   gain/loss  \n",
       "0          0  \n",
       "1          0  \n",
       "2          0  "
      ]
     },
     "execution_count": 53,
     "metadata": {},
     "output_type": "execute_result"
    }
   ],
   "source": [
    "# Dropping useless columns\n",
    "df.drop(['workclass','fnlwgt','education','occupation','relationship','race','capital_gain','capital_loss','country'],\\\n",
    "       axis = 1, inplace = True)\n",
    "df.head(3)"
   ]
  },
  {
   "cell_type": "code",
   "execution_count": 54,
   "id": "0e9ea7c0",
   "metadata": {
    "colab": {
     "base_uri": "https://localhost:8080/",
     "height": 142
    },
    "id": "0e9ea7c0",
    "outputId": "73fdf63c-6eb6-4090-ae29-91e6e6c3135f"
   },
   "outputs": [
    {
     "data": {
      "text/html": [
       "<div>\n",
       "<style scoped>\n",
       "    .dataframe tbody tr th:only-of-type {\n",
       "        vertical-align: middle;\n",
       "    }\n",
       "\n",
       "    .dataframe tbody tr th {\n",
       "        vertical-align: top;\n",
       "    }\n",
       "\n",
       "    .dataframe thead th {\n",
       "        text-align: right;\n",
       "    }\n",
       "</style>\n",
       "<table border=\"1\" class=\"dataframe\">\n",
       "  <thead>\n",
       "    <tr style=\"text-align: right;\">\n",
       "      <th></th>\n",
       "      <th>age_logarithmic</th>\n",
       "      <th>education_rank</th>\n",
       "      <th>hours_per_week</th>\n",
       "      <th>marital_status</th>\n",
       "      <th>salary</th>\n",
       "      <th>sex</th>\n",
       "      <th>gain/loss</th>\n",
       "    </tr>\n",
       "  </thead>\n",
       "  <tbody>\n",
       "    <tr>\n",
       "      <th>0</th>\n",
       "      <td>3.688879</td>\n",
       "      <td>13</td>\n",
       "      <td>35</td>\n",
       "      <td>0</td>\n",
       "      <td>0</td>\n",
       "      <td>1</td>\n",
       "      <td>0</td>\n",
       "    </tr>\n",
       "    <tr>\n",
       "      <th>1</th>\n",
       "      <td>3.583519</td>\n",
       "      <td>9</td>\n",
       "      <td>40</td>\n",
       "      <td>1</td>\n",
       "      <td>0</td>\n",
       "      <td>1</td>\n",
       "      <td>0</td>\n",
       "    </tr>\n",
       "    <tr>\n",
       "      <th>2</th>\n",
       "      <td>3.044522</td>\n",
       "      <td>9</td>\n",
       "      <td>35</td>\n",
       "      <td>0</td>\n",
       "      <td>0</td>\n",
       "      <td>0</td>\n",
       "      <td>0</td>\n",
       "    </tr>\n",
       "  </tbody>\n",
       "</table>\n",
       "</div>"
      ],
      "text/plain": [
       "   age_logarithmic  education_rank  hours_per_week  marital_status  salary  \\\n",
       "0         3.688879              13              35               0       0   \n",
       "1         3.583519               9              40               1       0   \n",
       "2         3.044522               9              35               0       0   \n",
       "\n",
       "   sex  gain/loss  \n",
       "0    1          0  \n",
       "1    1          0  \n",
       "2    0          0  "
      ]
     },
     "execution_count": 54,
     "metadata": {},
     "output_type": "execute_result"
    }
   ],
   "source": [
    "# Renameing columns age as age_logarithmic \n",
    "df.rename(columns = {'age':'age_logarithmic'}, inplace = True)\n",
    "df.head(3)"
   ]
  },
  {
   "cell_type": "code",
   "execution_count": 55,
   "id": "eaFvQT4Uu-E5",
   "metadata": {
    "id": "eaFvQT4Uu-E5"
   },
   "outputs": [],
   "source": [
    "df1 = df.copy()"
   ]
  },
  {
   "cell_type": "code",
   "execution_count": 56,
   "id": "6bcae34d",
   "metadata": {
    "id": "6bcae34d"
   },
   "outputs": [],
   "source": [
    "### removing target feature salary from the dataframe df for now and storing it in another variable\n",
    "salary = df1['salary'].reset_index(drop=True)\n",
    "df1 = df1.drop(['salary'], axis=1)"
   ]
  },
  {
   "cell_type": "markdown",
   "id": "b8b2fe84",
   "metadata": {
    "id": "b8b2fe84"
   },
   "source": [
    "## Building Machine Learning model "
   ]
  },
  {
   "cell_type": "code",
   "execution_count": 57,
   "id": "pKP-a-d7gnQj",
   "metadata": {
    "colab": {
     "base_uri": "https://localhost:8080/"
    },
    "id": "pKP-a-d7gnQj",
    "outputId": "b1537418-dc87-495b-f6a9-a582014e333f"
   },
   "outputs": [
    {
     "name": "stdout",
     "output_type": "stream",
     "text": [
      "Collecting catboost\n",
      "  Downloading catboost-0.26.1-cp37-none-manylinux1_x86_64.whl (67.4 MB)\n",
      "\u001b[K     |████████████████████████████████| 67.4 MB 31 kB/s \n",
      "\u001b[?25hRequirement already satisfied: graphviz in /usr/local/lib/python3.7/dist-packages (from catboost) (0.10.1)\n",
      "Requirement already satisfied: plotly in /usr/local/lib/python3.7/dist-packages (from catboost) (4.4.1)\n",
      "Requirement already satisfied: matplotlib in /usr/local/lib/python3.7/dist-packages (from catboost) (3.2.2)\n",
      "Requirement already satisfied: scipy in /usr/local/lib/python3.7/dist-packages (from catboost) (1.4.1)\n",
      "Requirement already satisfied: numpy>=1.16.0 in /usr/local/lib/python3.7/dist-packages (from catboost) (1.19.5)\n",
      "Requirement already satisfied: pandas>=0.24.0 in /usr/local/lib/python3.7/dist-packages (from catboost) (1.1.5)\n",
      "Requirement already satisfied: six in /usr/local/lib/python3.7/dist-packages (from catboost) (1.15.0)\n",
      "Requirement already satisfied: pytz>=2017.2 in /usr/local/lib/python3.7/dist-packages (from pandas>=0.24.0->catboost) (2018.9)\n",
      "Requirement already satisfied: python-dateutil>=2.7.3 in /usr/local/lib/python3.7/dist-packages (from pandas>=0.24.0->catboost) (2.8.2)\n",
      "Requirement already satisfied: kiwisolver>=1.0.1 in /usr/local/lib/python3.7/dist-packages (from matplotlib->catboost) (1.3.2)\n",
      "Requirement already satisfied: pyparsing!=2.0.4,!=2.1.2,!=2.1.6,>=2.0.1 in /usr/local/lib/python3.7/dist-packages (from matplotlib->catboost) (2.4.7)\n",
      "Requirement already satisfied: cycler>=0.10 in /usr/local/lib/python3.7/dist-packages (from matplotlib->catboost) (0.10.0)\n",
      "Requirement already satisfied: retrying>=1.3.3 in /usr/local/lib/python3.7/dist-packages (from plotly->catboost) (1.3.3)\n",
      "Installing collected packages: catboost\n",
      "Successfully installed catboost-0.26.1\n"
     ]
    }
   ],
   "source": [
    "!pip install catboost"
   ]
  },
  {
   "cell_type": "code",
   "execution_count": 58,
   "id": "46845eb6",
   "metadata": {
    "id": "46845eb6"
   },
   "outputs": [],
   "source": [
    "# Importing different ML Algorithms\n",
    "from sklearn.preprocessing import StandardScaler\n",
    "from sklearn.model_selection import cross_val_score, KFold\n",
    "from sklearn.linear_model import LogisticRegression\n",
    "from imblearn.pipeline import Pipeline\n",
    "from sklearn.compose import ColumnTransformer\n",
    "from imblearn.combine import SMOTETomek\n",
    "from sklearn.tree import DecisionTreeClassifier\n",
    "from sklearn.ensemble import RandomForestClassifier, AdaBoostClassifier\n",
    "from sklearn.neighbors import KNeighborsClassifier\n",
    "from catboost import CatBoostClassifier\n",
    "from xgboost import XGBClassifier\n",
    "from sklearn.svm import SVC"
   ]
  },
  {
   "cell_type": "code",
   "execution_count": 59,
   "id": "97ecd27c",
   "metadata": {
    "id": "97ecd27c"
   },
   "outputs": [],
   "source": [
    "# Creating a function to concatenate different one hot encoded dataframes\n",
    "def concat_dataframes(data):\n",
    "    dataframe = pd.concat([data, workclass.iloc[data.index, :],\\\n",
    "                           race.iloc[data.index , :],\\\n",
    "                           occupation.iloc[data.index, :],\\\n",
    "                           country.iloc[data.index, :]], axis = 1)\n",
    "    \n",
    "    dataframe = dataframe.dropna()\n",
    "    dataframe = dataframe.reset_index(drop = True)\n",
    "    return dataframe\n"
   ]
  },
  {
   "cell_type": "code",
   "execution_count": 60,
   "id": "-HoKE9brlXUr",
   "metadata": {
    "colab": {
     "base_uri": "https://localhost:8080/",
     "height": 456
    },
    "id": "-HoKE9brlXUr",
    "outputId": "e44eb0ad-6df2-4ace-f8d8-4c8e5632cc0f"
   },
   "outputs": [
    {
     "data": {
      "text/html": [
       "<div>\n",
       "<style scoped>\n",
       "    .dataframe tbody tr th:only-of-type {\n",
       "        vertical-align: middle;\n",
       "    }\n",
       "\n",
       "    .dataframe tbody tr th {\n",
       "        vertical-align: top;\n",
       "    }\n",
       "\n",
       "    .dataframe thead th {\n",
       "        text-align: right;\n",
       "    }\n",
       "</style>\n",
       "<table border=\"1\" class=\"dataframe\">\n",
       "  <thead>\n",
       "    <tr style=\"text-align: right;\">\n",
       "      <th></th>\n",
       "      <th>age_logarithmic</th>\n",
       "      <th>education_rank</th>\n",
       "      <th>hours_per_week</th>\n",
       "      <th>marital_status</th>\n",
       "      <th>sex</th>\n",
       "      <th>gain/loss</th>\n",
       "      <th>Local_gov</th>\n",
       "      <th>Private</th>\n",
       "      <th>Self_emp_inc</th>\n",
       "      <th>Self_emp_not_in_inc</th>\n",
       "      <th>State_gov</th>\n",
       "      <th>others</th>\n",
       "      <th>Asian_Pac_Islander</th>\n",
       "      <th>Black</th>\n",
       "      <th>Other</th>\n",
       "      <th>White</th>\n",
       "      <th>Armed_Forces</th>\n",
       "      <th>Craft_repair</th>\n",
       "      <th>Exec_managerial</th>\n",
       "      <th>Farming_fishing</th>\n",
       "      <th>Handlers_cleaners</th>\n",
       "      <th>Machine_op_inspct</th>\n",
       "      <th>Other_service</th>\n",
       "      <th>Priv_house_serv</th>\n",
       "      <th>Prof_specialty</th>\n",
       "      <th>Protective_serv</th>\n",
       "      <th>Sales</th>\n",
       "      <th>Tech_support</th>\n",
       "      <th>Transport_moving</th>\n",
       "      <th>El Salvador</th>\n",
       "      <th>Germany</th>\n",
       "      <th>India</th>\n",
       "      <th>Mexico</th>\n",
       "      <th>Philippines</th>\n",
       "      <th>Puerto Rico</th>\n",
       "      <th>United States</th>\n",
       "      <th>others</th>\n",
       "    </tr>\n",
       "  </thead>\n",
       "  <tbody>\n",
       "    <tr>\n",
       "      <th>0</th>\n",
       "      <td>3.688879</td>\n",
       "      <td>13</td>\n",
       "      <td>35</td>\n",
       "      <td>0</td>\n",
       "      <td>1</td>\n",
       "      <td>0</td>\n",
       "      <td>0</td>\n",
       "      <td>1</td>\n",
       "      <td>0</td>\n",
       "      <td>0</td>\n",
       "      <td>0</td>\n",
       "      <td>0</td>\n",
       "      <td>0</td>\n",
       "      <td>1</td>\n",
       "      <td>0</td>\n",
       "      <td>0</td>\n",
       "      <td>0</td>\n",
       "      <td>0</td>\n",
       "      <td>0</td>\n",
       "      <td>0</td>\n",
       "      <td>0</td>\n",
       "      <td>0</td>\n",
       "      <td>0</td>\n",
       "      <td>0</td>\n",
       "      <td>0</td>\n",
       "      <td>0</td>\n",
       "      <td>0</td>\n",
       "      <td>0</td>\n",
       "      <td>0</td>\n",
       "      <td>0</td>\n",
       "      <td>0</td>\n",
       "      <td>0</td>\n",
       "      <td>0</td>\n",
       "      <td>0</td>\n",
       "      <td>0</td>\n",
       "      <td>1</td>\n",
       "      <td>0</td>\n",
       "    </tr>\n",
       "    <tr>\n",
       "      <th>1</th>\n",
       "      <td>3.583519</td>\n",
       "      <td>9</td>\n",
       "      <td>40</td>\n",
       "      <td>1</td>\n",
       "      <td>1</td>\n",
       "      <td>0</td>\n",
       "      <td>0</td>\n",
       "      <td>1</td>\n",
       "      <td>0</td>\n",
       "      <td>0</td>\n",
       "      <td>0</td>\n",
       "      <td>0</td>\n",
       "      <td>0</td>\n",
       "      <td>0</td>\n",
       "      <td>0</td>\n",
       "      <td>1</td>\n",
       "      <td>0</td>\n",
       "      <td>1</td>\n",
       "      <td>0</td>\n",
       "      <td>0</td>\n",
       "      <td>0</td>\n",
       "      <td>0</td>\n",
       "      <td>0</td>\n",
       "      <td>0</td>\n",
       "      <td>0</td>\n",
       "      <td>0</td>\n",
       "      <td>0</td>\n",
       "      <td>0</td>\n",
       "      <td>0</td>\n",
       "      <td>0</td>\n",
       "      <td>0</td>\n",
       "      <td>0</td>\n",
       "      <td>0</td>\n",
       "      <td>0</td>\n",
       "      <td>0</td>\n",
       "      <td>1</td>\n",
       "      <td>0</td>\n",
       "    </tr>\n",
       "    <tr>\n",
       "      <th>2</th>\n",
       "      <td>3.044522</td>\n",
       "      <td>9</td>\n",
       "      <td>35</td>\n",
       "      <td>0</td>\n",
       "      <td>0</td>\n",
       "      <td>0</td>\n",
       "      <td>0</td>\n",
       "      <td>1</td>\n",
       "      <td>0</td>\n",
       "      <td>0</td>\n",
       "      <td>0</td>\n",
       "      <td>0</td>\n",
       "      <td>0</td>\n",
       "      <td>0</td>\n",
       "      <td>0</td>\n",
       "      <td>1</td>\n",
       "      <td>0</td>\n",
       "      <td>0</td>\n",
       "      <td>0</td>\n",
       "      <td>0</td>\n",
       "      <td>0</td>\n",
       "      <td>0</td>\n",
       "      <td>1</td>\n",
       "      <td>0</td>\n",
       "      <td>0</td>\n",
       "      <td>0</td>\n",
       "      <td>0</td>\n",
       "      <td>0</td>\n",
       "      <td>0</td>\n",
       "      <td>0</td>\n",
       "      <td>0</td>\n",
       "      <td>0</td>\n",
       "      <td>0</td>\n",
       "      <td>0</td>\n",
       "      <td>0</td>\n",
       "      <td>1</td>\n",
       "      <td>0</td>\n",
       "    </tr>\n",
       "    <tr>\n",
       "      <th>3</th>\n",
       "      <td>3.044522</td>\n",
       "      <td>8</td>\n",
       "      <td>48</td>\n",
       "      <td>0</td>\n",
       "      <td>1</td>\n",
       "      <td>0</td>\n",
       "      <td>0</td>\n",
       "      <td>1</td>\n",
       "      <td>0</td>\n",
       "      <td>0</td>\n",
       "      <td>0</td>\n",
       "      <td>0</td>\n",
       "      <td>0</td>\n",
       "      <td>1</td>\n",
       "      <td>0</td>\n",
       "      <td>0</td>\n",
       "      <td>0</td>\n",
       "      <td>0</td>\n",
       "      <td>0</td>\n",
       "      <td>0</td>\n",
       "      <td>0</td>\n",
       "      <td>0</td>\n",
       "      <td>0</td>\n",
       "      <td>0</td>\n",
       "      <td>0</td>\n",
       "      <td>0</td>\n",
       "      <td>0</td>\n",
       "      <td>0</td>\n",
       "      <td>0</td>\n",
       "      <td>0</td>\n",
       "      <td>0</td>\n",
       "      <td>0</td>\n",
       "      <td>0</td>\n",
       "      <td>0</td>\n",
       "      <td>0</td>\n",
       "      <td>1</td>\n",
       "      <td>0</td>\n",
       "    </tr>\n",
       "    <tr>\n",
       "      <th>4</th>\n",
       "      <td>3.178054</td>\n",
       "      <td>10</td>\n",
       "      <td>53</td>\n",
       "      <td>0</td>\n",
       "      <td>0</td>\n",
       "      <td>0</td>\n",
       "      <td>0</td>\n",
       "      <td>1</td>\n",
       "      <td>0</td>\n",
       "      <td>0</td>\n",
       "      <td>0</td>\n",
       "      <td>0</td>\n",
       "      <td>0</td>\n",
       "      <td>0</td>\n",
       "      <td>0</td>\n",
       "      <td>1</td>\n",
       "      <td>0</td>\n",
       "      <td>0</td>\n",
       "      <td>0</td>\n",
       "      <td>0</td>\n",
       "      <td>0</td>\n",
       "      <td>0</td>\n",
       "      <td>1</td>\n",
       "      <td>0</td>\n",
       "      <td>0</td>\n",
       "      <td>0</td>\n",
       "      <td>0</td>\n",
       "      <td>0</td>\n",
       "      <td>0</td>\n",
       "      <td>0</td>\n",
       "      <td>0</td>\n",
       "      <td>0</td>\n",
       "      <td>0</td>\n",
       "      <td>0</td>\n",
       "      <td>0</td>\n",
       "      <td>1</td>\n",
       "      <td>0</td>\n",
       "    </tr>\n",
       "    <tr>\n",
       "      <th>...</th>\n",
       "      <td>...</td>\n",
       "      <td>...</td>\n",
       "      <td>...</td>\n",
       "      <td>...</td>\n",
       "      <td>...</td>\n",
       "      <td>...</td>\n",
       "      <td>...</td>\n",
       "      <td>...</td>\n",
       "      <td>...</td>\n",
       "      <td>...</td>\n",
       "      <td>...</td>\n",
       "      <td>...</td>\n",
       "      <td>...</td>\n",
       "      <td>...</td>\n",
       "      <td>...</td>\n",
       "      <td>...</td>\n",
       "      <td>...</td>\n",
       "      <td>...</td>\n",
       "      <td>...</td>\n",
       "      <td>...</td>\n",
       "      <td>...</td>\n",
       "      <td>...</td>\n",
       "      <td>...</td>\n",
       "      <td>...</td>\n",
       "      <td>...</td>\n",
       "      <td>...</td>\n",
       "      <td>...</td>\n",
       "      <td>...</td>\n",
       "      <td>...</td>\n",
       "      <td>...</td>\n",
       "      <td>...</td>\n",
       "      <td>...</td>\n",
       "      <td>...</td>\n",
       "      <td>...</td>\n",
       "      <td>...</td>\n",
       "      <td>...</td>\n",
       "      <td>...</td>\n",
       "    </tr>\n",
       "    <tr>\n",
       "      <th>32435</th>\n",
       "      <td>2.890372</td>\n",
       "      <td>7</td>\n",
       "      <td>35</td>\n",
       "      <td>0</td>\n",
       "      <td>1</td>\n",
       "      <td>0</td>\n",
       "      <td>0</td>\n",
       "      <td>1</td>\n",
       "      <td>0</td>\n",
       "      <td>0</td>\n",
       "      <td>0</td>\n",
       "      <td>0</td>\n",
       "      <td>0</td>\n",
       "      <td>0</td>\n",
       "      <td>0</td>\n",
       "      <td>1</td>\n",
       "      <td>0</td>\n",
       "      <td>0</td>\n",
       "      <td>0</td>\n",
       "      <td>0</td>\n",
       "      <td>0</td>\n",
       "      <td>0</td>\n",
       "      <td>0</td>\n",
       "      <td>0</td>\n",
       "      <td>0</td>\n",
       "      <td>0</td>\n",
       "      <td>1</td>\n",
       "      <td>0</td>\n",
       "      <td>0</td>\n",
       "      <td>0</td>\n",
       "      <td>0</td>\n",
       "      <td>0</td>\n",
       "      <td>0</td>\n",
       "      <td>0</td>\n",
       "      <td>0</td>\n",
       "      <td>1</td>\n",
       "      <td>0</td>\n",
       "    </tr>\n",
       "    <tr>\n",
       "      <th>32436</th>\n",
       "      <td>3.218876</td>\n",
       "      <td>10</td>\n",
       "      <td>50</td>\n",
       "      <td>0</td>\n",
       "      <td>1</td>\n",
       "      <td>0</td>\n",
       "      <td>0</td>\n",
       "      <td>1</td>\n",
       "      <td>0</td>\n",
       "      <td>0</td>\n",
       "      <td>0</td>\n",
       "      <td>0</td>\n",
       "      <td>0</td>\n",
       "      <td>0</td>\n",
       "      <td>0</td>\n",
       "      <td>1</td>\n",
       "      <td>0</td>\n",
       "      <td>0</td>\n",
       "      <td>0</td>\n",
       "      <td>0</td>\n",
       "      <td>0</td>\n",
       "      <td>0</td>\n",
       "      <td>0</td>\n",
       "      <td>0</td>\n",
       "      <td>0</td>\n",
       "      <td>0</td>\n",
       "      <td>1</td>\n",
       "      <td>0</td>\n",
       "      <td>0</td>\n",
       "      <td>0</td>\n",
       "      <td>0</td>\n",
       "      <td>0</td>\n",
       "      <td>0</td>\n",
       "      <td>0</td>\n",
       "      <td>0</td>\n",
       "      <td>1</td>\n",
       "      <td>0</td>\n",
       "    </tr>\n",
       "    <tr>\n",
       "      <th>32437</th>\n",
       "      <td>3.555348</td>\n",
       "      <td>9</td>\n",
       "      <td>35</td>\n",
       "      <td>1</td>\n",
       "      <td>1</td>\n",
       "      <td>0</td>\n",
       "      <td>0</td>\n",
       "      <td>1</td>\n",
       "      <td>0</td>\n",
       "      <td>0</td>\n",
       "      <td>0</td>\n",
       "      <td>0</td>\n",
       "      <td>0</td>\n",
       "      <td>0</td>\n",
       "      <td>0</td>\n",
       "      <td>1</td>\n",
       "      <td>0</td>\n",
       "      <td>1</td>\n",
       "      <td>0</td>\n",
       "      <td>0</td>\n",
       "      <td>0</td>\n",
       "      <td>0</td>\n",
       "      <td>0</td>\n",
       "      <td>0</td>\n",
       "      <td>0</td>\n",
       "      <td>0</td>\n",
       "      <td>0</td>\n",
       "      <td>0</td>\n",
       "      <td>0</td>\n",
       "      <td>0</td>\n",
       "      <td>0</td>\n",
       "      <td>0</td>\n",
       "      <td>0</td>\n",
       "      <td>0</td>\n",
       "      <td>0</td>\n",
       "      <td>1</td>\n",
       "      <td>0</td>\n",
       "    </tr>\n",
       "    <tr>\n",
       "      <th>32438</th>\n",
       "      <td>3.761200</td>\n",
       "      <td>14</td>\n",
       "      <td>50</td>\n",
       "      <td>0</td>\n",
       "      <td>0</td>\n",
       "      <td>0</td>\n",
       "      <td>0</td>\n",
       "      <td>1</td>\n",
       "      <td>0</td>\n",
       "      <td>0</td>\n",
       "      <td>0</td>\n",
       "      <td>0</td>\n",
       "      <td>0</td>\n",
       "      <td>0</td>\n",
       "      <td>0</td>\n",
       "      <td>1</td>\n",
       "      <td>0</td>\n",
       "      <td>0</td>\n",
       "      <td>1</td>\n",
       "      <td>0</td>\n",
       "      <td>0</td>\n",
       "      <td>0</td>\n",
       "      <td>0</td>\n",
       "      <td>0</td>\n",
       "      <td>0</td>\n",
       "      <td>0</td>\n",
       "      <td>0</td>\n",
       "      <td>0</td>\n",
       "      <td>0</td>\n",
       "      <td>0</td>\n",
       "      <td>0</td>\n",
       "      <td>0</td>\n",
       "      <td>0</td>\n",
       "      <td>0</td>\n",
       "      <td>0</td>\n",
       "      <td>1</td>\n",
       "      <td>0</td>\n",
       "    </tr>\n",
       "    <tr>\n",
       "      <th>32439</th>\n",
       "      <td>2.944439</td>\n",
       "      <td>9</td>\n",
       "      <td>40</td>\n",
       "      <td>0</td>\n",
       "      <td>0</td>\n",
       "      <td>0</td>\n",
       "      <td>0</td>\n",
       "      <td>1</td>\n",
       "      <td>0</td>\n",
       "      <td>0</td>\n",
       "      <td>0</td>\n",
       "      <td>0</td>\n",
       "      <td>0</td>\n",
       "      <td>0</td>\n",
       "      <td>0</td>\n",
       "      <td>1</td>\n",
       "      <td>0</td>\n",
       "      <td>0</td>\n",
       "      <td>0</td>\n",
       "      <td>0</td>\n",
       "      <td>0</td>\n",
       "      <td>0</td>\n",
       "      <td>0</td>\n",
       "      <td>0</td>\n",
       "      <td>0</td>\n",
       "      <td>0</td>\n",
       "      <td>1</td>\n",
       "      <td>0</td>\n",
       "      <td>0</td>\n",
       "      <td>0</td>\n",
       "      <td>0</td>\n",
       "      <td>0</td>\n",
       "      <td>0</td>\n",
       "      <td>0</td>\n",
       "      <td>0</td>\n",
       "      <td>1</td>\n",
       "      <td>0</td>\n",
       "    </tr>\n",
       "  </tbody>\n",
       "</table>\n",
       "<p>32440 rows × 37 columns</p>\n",
       "</div>"
      ],
      "text/plain": [
       "       age_logarithmic  education_rank  hours_per_week  marital_status  sex  \\\n",
       "0             3.688879              13              35               0    1   \n",
       "1             3.583519               9              40               1    1   \n",
       "2             3.044522               9              35               0    0   \n",
       "3             3.044522               8              48               0    1   \n",
       "4             3.178054              10              53               0    0   \n",
       "...                ...             ...             ...             ...  ...   \n",
       "32435         2.890372               7              35               0    1   \n",
       "32436         3.218876              10              50               0    1   \n",
       "32437         3.555348               9              35               1    1   \n",
       "32438         3.761200              14              50               0    0   \n",
       "32439         2.944439               9              40               0    0   \n",
       "\n",
       "       gain/loss  Local_gov  Private  Self_emp_inc  Self_emp_not_in_inc  \\\n",
       "0              0          0        1             0                    0   \n",
       "1              0          0        1             0                    0   \n",
       "2              0          0        1             0                    0   \n",
       "3              0          0        1             0                    0   \n",
       "4              0          0        1             0                    0   \n",
       "...          ...        ...      ...           ...                  ...   \n",
       "32435          0          0        1             0                    0   \n",
       "32436          0          0        1             0                    0   \n",
       "32437          0          0        1             0                    0   \n",
       "32438          0          0        1             0                    0   \n",
       "32439          0          0        1             0                    0   \n",
       "\n",
       "       State_gov  others  Asian_Pac_Islander  Black  Other  White  \\\n",
       "0              0       0                   0      1      0      0   \n",
       "1              0       0                   0      0      0      1   \n",
       "2              0       0                   0      0      0      1   \n",
       "3              0       0                   0      1      0      0   \n",
       "4              0       0                   0      0      0      1   \n",
       "...          ...     ...                 ...    ...    ...    ...   \n",
       "32435          0       0                   0      0      0      1   \n",
       "32436          0       0                   0      0      0      1   \n",
       "32437          0       0                   0      0      0      1   \n",
       "32438          0       0                   0      0      0      1   \n",
       "32439          0       0                   0      0      0      1   \n",
       "\n",
       "       Armed_Forces  Craft_repair  Exec_managerial  Farming_fishing  \\\n",
       "0                 0             0                0                0   \n",
       "1                 0             1                0                0   \n",
       "2                 0             0                0                0   \n",
       "3                 0             0                0                0   \n",
       "4                 0             0                0                0   \n",
       "...             ...           ...              ...              ...   \n",
       "32435             0             0                0                0   \n",
       "32436             0             0                0                0   \n",
       "32437             0             1                0                0   \n",
       "32438             0             0                1                0   \n",
       "32439             0             0                0                0   \n",
       "\n",
       "       Handlers_cleaners  Machine_op_inspct  Other_service  Priv_house_serv  \\\n",
       "0                      0                  0              0                0   \n",
       "1                      0                  0              0                0   \n",
       "2                      0                  0              1                0   \n",
       "3                      0                  0              0                0   \n",
       "4                      0                  0              1                0   \n",
       "...                  ...                ...            ...              ...   \n",
       "32435                  0                  0              0                0   \n",
       "32436                  0                  0              0                0   \n",
       "32437                  0                  0              0                0   \n",
       "32438                  0                  0              0                0   \n",
       "32439                  0                  0              0                0   \n",
       "\n",
       "       Prof_specialty  Protective_serv  Sales  Tech_support  Transport_moving  \\\n",
       "0                   0                0      0             0                 0   \n",
       "1                   0                0      0             0                 0   \n",
       "2                   0                0      0             0                 0   \n",
       "3                   0                0      0             0                 0   \n",
       "4                   0                0      0             0                 0   \n",
       "...               ...              ...    ...           ...               ...   \n",
       "32435               0                0      1             0                 0   \n",
       "32436               0                0      1             0                 0   \n",
       "32437               0                0      0             0                 0   \n",
       "32438               0                0      0             0                 0   \n",
       "32439               0                0      1             0                 0   \n",
       "\n",
       "       El Salvador  Germany  India  Mexico  Philippines  Puerto Rico  \\\n",
       "0                0        0      0       0            0            0   \n",
       "1                0        0      0       0            0            0   \n",
       "2                0        0      0       0            0            0   \n",
       "3                0        0      0       0            0            0   \n",
       "4                0        0      0       0            0            0   \n",
       "...            ...      ...    ...     ...          ...          ...   \n",
       "32435            0        0      0       0            0            0   \n",
       "32436            0        0      0       0            0            0   \n",
       "32437            0        0      0       0            0            0   \n",
       "32438            0        0      0       0            0            0   \n",
       "32439            0        0      0       0            0            0   \n",
       "\n",
       "       United States  others  \n",
       "0                  1       0  \n",
       "1                  1       0  \n",
       "2                  1       0  \n",
       "3                  1       0  \n",
       "4                  1       0  \n",
       "...              ...     ...  \n",
       "32435              1       0  \n",
       "32436              1       0  \n",
       "32437              1       0  \n",
       "32438              1       0  \n",
       "32439              1       0  \n",
       "\n",
       "[32440 rows x 37 columns]"
      ]
     },
     "execution_count": 60,
     "metadata": {},
     "output_type": "execute_result"
    }
   ],
   "source": [
    "concat_dataframes(df1)"
   ]
  },
  {
   "cell_type": "code",
   "execution_count": 61,
   "id": "0f-4zH8lpT4N",
   "metadata": {
    "id": "0f-4zH8lpT4N"
   },
   "outputs": [],
   "source": [
    "df1 = concat_dataframes(df1)"
   ]
  },
  {
   "cell_type": "code",
   "execution_count": 62,
   "id": "cCvVZynAnRjM",
   "metadata": {
    "id": "cCvVZynAnRjM"
   },
   "outputs": [],
   "source": [
    "# using sklearn column transformer to standerdize the two continuous features we have in our data\n",
    "features = ['age_logarithmic', 'hours_per_week']\n",
    "scaler = ColumnTransformer(transformers = [\n",
    "                                           ('scale_num_features', StandardScaler(), features)\n",
    "], remainder='passthrough')"
   ]
  },
  {
   "cell_type": "code",
   "execution_count": 63,
   "id": "y6vCMqtGoVoI",
   "metadata": {
    "id": "y6vCMqtGoVoI"
   },
   "outputs": [],
   "source": [
    "# comparing different classification models using sklearn pipeline\n",
    "models = [LogisticRegression(), SVC(), AdaBoostClassifier(), RandomForestClassifier(), XGBClassifier(),\\\n",
    "          DecisionTreeClassifier(), KNeighborsClassifier(), CatBoostClassifier()]\n",
    "\n",
    "model_labels = ['LogisticReg.','SVC','AdaBoost','RandomForest','Xgboost','DecisionTree','KNN', 'CatBoost']\n",
    "mean_validation_f1_scores = []\n",
    "\n",
    "for model in models:\n",
    "\n",
    "  data_pipeline = Pipeline(steps = [\n",
    "                                    ('scaler', scaler),\n",
    "                                    ('resample', SMOTETomek()),\n",
    "                                    ('model', model)\n",
    "  ])\n",
    "  mean_validation_f1 = cross_val_score(data_pipeline, df1, salary, cv=KFold(n_splits=10), scoring='f1',n_jobs=-1).mean()\n",
    "  mean_validation_f1_scores.append(mean_validation_f1)"
   ]
  },
  {
   "cell_type": "markdown",
   "id": "a2A2Hu0Bw2pr",
   "metadata": {
    "id": "a2A2Hu0Bw2pr"
   },
   "source": [
    "Setting n_splits in KFold cross validation as 10 in order to use 90 percent of data for training and 10 percent of data for testing in each validation."
   ]
  },
  {
   "cell_type": "code",
   "execution_count": 64,
   "id": "z9iB9aLgJ_GD",
   "metadata": {
    "colab": {
     "base_uri": "https://localhost:8080/",
     "height": 483
    },
    "id": "z9iB9aLgJ_GD",
    "outputId": "f038ab7c-e551-4f1a-d3b9-3988984ec853"
   },
   "outputs": [
    {
     "data": {
      "image/png": "[encoded data removed]",
      "text/plain": [
       "<Figure size 1080x576 with 2 Axes>"
      ]
     },
     "metadata": {},
     "output_type": "display_data"
    }
   ],
   "source": [
    "fig, axes = plt.subplots(nrows = 2, ncols = 1, figsize = (15,8))\n",
    "\n",
    "sns.set_style('dark')\n",
    "sns.barplot(y = model_labels ,x = mean_validation_f1_scores, ax=axes[0])\n",
    "axes[0].grid(True, color='k')\n",
    "\n",
    "sns.set_style('whitegrid')\n",
    "sns.lineplot(x = model_labels, y = mean_validation_f1_scores)\n",
    "axes[1].grid(True, color='k')\n",
    "fig.show()"
   ]
  },
  {
   "cell_type": "code",
   "execution_count": 65,
   "id": "DQ1Dpu4rs-30",
   "metadata": {
    "colab": {
     "base_uri": "https://localhost:8080/"
    },
    "id": "DQ1Dpu4rs-30",
    "outputId": "e503dd8f-35d7-4563-b8e9-6c5d284f16b9"
   },
   "outputs": [
    {
     "data": {
      "text/plain": [
       "[0.6479362428888944,\n",
       " 0.6484600835333807,\n",
       " 0.6729303646517979,\n",
       " 0.6401763944905081,\n",
       " 0.6724034718922612,\n",
       " 0.5832422584476741,\n",
       " 0.6368577494720036,\n",
       " 0.6763963968877748]"
      ]
     },
     "execution_count": 65,
     "metadata": {},
     "output_type": "execute_result"
    }
   ],
   "source": [
    "mean_validation_f1_scores"
   ]
  },
  {
   "cell_type": "markdown",
   "id": "m1g0sZHk0cPU",
   "metadata": {
    "id": "m1g0sZHk0cPU"
   },
   "source": [
    "Performing hyperparameter optimization using GridSearchCV on the best performing model that is CatBoostClassifier"
   ]
  },
  {
   "cell_type": "markdown",
   "id": "db0fa615",
   "metadata": {},
   "source": [
    "## Hyperparameter Tuning"
   ]
  },
  {
   "cell_type": "code",
   "execution_count": 66,
   "id": "U9km0xDx4dwA",
   "metadata": {
    "id": "U9km0xDx4dwA"
   },
   "outputs": [],
   "source": [
    "from sklearn.model_selection import GridSearchCV"
   ]
  },
  {
   "cell_type": "code",
   "execution_count": 67,
   "id": "dgcLhgJv4zwS",
   "metadata": {
    "id": "dgcLhgJv4zwS"
   },
   "outputs": [],
   "source": [
    "params = {\n",
    "    'model__depth':[5,7,10,11,12,13],\n",
    "    'model__learning_rate':[0.05,0.1,0.15,0.25,0.3],\n",
    "    'model__iterations':[25, 30, 50, 80, 100,120]\n",
    "}"
   ]
  },
  {
   "cell_type": "code",
   "execution_count": 68,
   "id": "oD9qep3H537A",
   "metadata": {
    "id": "oD9qep3H537A"
   },
   "outputs": [],
   "source": [
    "data_pipeline = Pipeline(steps = [\n",
    "                                  ('scaler', scaler),\n",
    "                                  ('model', CatBoostClassifier(class_weights={0:1, 1:3.14}))\n",
    "])"
   ]
  },
  {
   "cell_type": "code",
   "execution_count": 69,
   "id": "YGqSGrc65gMT",
   "metadata": {
    "id": "YGqSGrc65gMT"
   },
   "outputs": [],
   "source": [
    "grid_search=GridSearchCV(data_pipeline,param_grid=params,scoring='f1',n_jobs=-1,cv=KFold(n_splits=3))"
   ]
  },
  {
   "cell_type": "code",
   "execution_count": 70,
   "id": "OcG--p_P5rRN",
   "metadata": {
    "colab": {
     "base_uri": "https://localhost:8080/"
    },
    "id": "OcG--p_P5rRN",
    "outputId": "0d5271da-9e75-4d61-ce0c-55ec5d21bcf6"
   },
   "outputs": [
    {
     "name": "stdout",
     "output_type": "stream",
     "text": [
      "0:\tlearn: 0.5428338\ttotal: 88.6ms\tremaining: 2.57s\n",
      "1:\tlearn: 0.4844850\ttotal: 124ms\tremaining: 1.74s\n",
      "2:\tlearn: 0.4443988\ttotal: 160ms\tremaining: 1.44s\n",
      "3:\tlearn: 0.4207481\ttotal: 197ms\tremaining: 1.28s\n",
      "4:\tlearn: 0.4073921\ttotal: 234ms\tremaining: 1.17s\n",
      "5:\tlearn: 0.3993304\ttotal: 268ms\tremaining: 1.07s\n",
      "6:\tlearn: 0.3925387\ttotal: 308ms\tremaining: 1.01s\n",
      "7:\tlearn: 0.3862630\ttotal: 345ms\tremaining: 949ms\n",
      "8:\tlearn: 0.3823916\ttotal: 382ms\tremaining: 891ms\n",
      "9:\tlearn: 0.3788729\ttotal: 418ms\tremaining: 837ms\n",
      "10:\tlearn: 0.3770447\ttotal: 453ms\tremaining: 783ms\n",
      "11:\tlearn: 0.3751031\ttotal: 489ms\tremaining: 734ms\n",
      "12:\tlearn: 0.3728133\ttotal: 529ms\tremaining: 691ms\n",
      "13:\tlearn: 0.3703273\ttotal: 568ms\tremaining: 649ms\n",
      "14:\tlearn: 0.3682848\ttotal: 605ms\tremaining: 605ms\n",
      "15:\tlearn: 0.3658929\ttotal: 644ms\tremaining: 563ms\n",
      "16:\tlearn: 0.3646794\ttotal: 679ms\tremaining: 519ms\n",
      "17:\tlearn: 0.3625525\ttotal: 721ms\tremaining: 481ms\n",
      "18:\tlearn: 0.3604296\ttotal: 768ms\tremaining: 444ms\n",
      "19:\tlearn: 0.3600270\ttotal: 787ms\tremaining: 394ms\n",
      "20:\tlearn: 0.3581135\ttotal: 826ms\tremaining: 354ms\n",
      "21:\tlearn: 0.3570525\ttotal: 862ms\tremaining: 313ms\n",
      "22:\tlearn: 0.3560889\ttotal: 897ms\tremaining: 273ms\n",
      "23:\tlearn: 0.3547783\ttotal: 936ms\tremaining: 234ms\n",
      "24:\tlearn: 0.3539835\ttotal: 976ms\tremaining: 195ms\n",
      "25:\tlearn: 0.3533347\ttotal: 1.01s\tremaining: 156ms\n",
      "26:\tlearn: 0.3524633\ttotal: 1.05s\tremaining: 117ms\n",
      "27:\tlearn: 0.3509906\ttotal: 1.09s\tremaining: 77.8ms\n",
      "28:\tlearn: 0.3500533\ttotal: 1.13s\tremaining: 38.9ms\n",
      "29:\tlearn: 0.3494329\ttotal: 1.17s\tremaining: 0us\n"
     ]
    },
    {
     "data": {
      "text/plain": [
       "GridSearchCV(cv=KFold(n_splits=3, random_state=None, shuffle=False),\n",
       "             error_score=nan,\n",
       "             estimator=Pipeline(memory=None,\n",
       "                                steps=[('scaler',\n",
       "                                        ColumnTransformer(n_jobs=None,\n",
       "                                                          remainder='passthrough',\n",
       "                                                          sparse_threshold=0.3,\n",
       "                                                          transformer_weights=None,\n",
       "                                                          transformers=[('scale_num_features',\n",
       "                                                                         StandardScaler(copy=True,\n",
       "                                                                                        with_mean=True,\n",
       "                                                                                        with_std=True),\n",
       "                                                                         ['age_logarithmic',\n",
       "                                                                          'hours_per...'])],\n",
       "                                                          verbose=False)),\n",
       "                                       ('model',\n",
       "                                        <catboost.core.CatBoostClassifier object at 0x7fd27b6cb990>)],\n",
       "                                verbose=False),\n",
       "             iid='deprecated', n_jobs=-1,\n",
       "             param_grid={'model__depth': [5, 7, 10, 11, 12, 13],\n",
       "                         'model__iterations': [25, 30, 50, 80, 100, 120],\n",
       "                         'model__learning_rate': [0.05, 0.1, 0.15, 0.25, 0.3]},\n",
       "             pre_dispatch='2*n_jobs', refit=True, return_train_score=False,\n",
       "             scoring='f1', verbose=0)"
      ]
     },
     "execution_count": 70,
     "metadata": {},
     "output_type": "execute_result"
    }
   ],
   "source": [
    "grid_search.fit(df1, salary)"
   ]
  },
  {
   "cell_type": "code",
   "execution_count": 71,
   "id": "DPwdX2hfm8T3",
   "metadata": {
    "colab": {
     "base_uri": "https://localhost:8080/"
    },
    "id": "DPwdX2hfm8T3",
    "outputId": "d06aceba-fda2-4f43-93e4-265dc33fce05"
   },
   "outputs": [
    {
     "data": {
      "text/plain": [
       "0.6774273319634917"
      ]
     },
     "execution_count": 71,
     "metadata": {},
     "output_type": "execute_result"
    }
   ],
   "source": [
    "grid_search.best_score_"
   ]
  },
  {
   "cell_type": "code",
   "execution_count": 72,
   "id": "-LZjmWlLoKzn",
   "metadata": {
    "colab": {
     "base_uri": "https://localhost:8080/"
    },
    "id": "-LZjmWlLoKzn",
    "outputId": "64c4b52e-ea88-4046-d035-ca916ed4a74a"
   },
   "outputs": [
    {
     "data": {
      "text/plain": [
       "{'model__depth': 10, 'model__iterations': 30, 'model__learning_rate': 0.25}"
      ]
     },
     "execution_count": 72,
     "metadata": {},
     "output_type": "execute_result"
    }
   ],
   "source": [
    "grid_search.best_params_"
   ]
  },
  {
   "cell_type": "code",
   "execution_count": 73,
   "id": "-qT_wuDJ-sz3",
   "metadata": {
    "id": "-qT_wuDJ-sz3"
   },
   "outputs": [],
   "source": [
    "# Creating pipeline with new parameters after optained from gridsearchcv\n",
    "data_pipeline = Pipeline(steps = [\n",
    "                                  ('scaler', scaler),\n",
    "                                  ('resample', SMOTETomek()),\n",
    "                                  ('model', CatBoostClassifier(depth=10,\\\n",
    "                                                               iterations=30, learning_rate=0.25))\n",
    "])"
   ]
  },
  {
   "cell_type": "code",
   "execution_count": 74,
   "id": "jOOb9wqg-7GH",
   "metadata": {
    "colab": {
     "base_uri": "https://localhost:8080/"
    },
    "id": "jOOb9wqg-7GH",
    "outputId": "78683d0c-1ab4-4604-aa45-34af245ddd1b"
   },
   "outputs": [
    {
     "name": "stdout",
     "output_type": "stream",
     "text": [
      "max f1 : 0.6979280261723011\n",
      "min f1 : 0.6614349775784754\n",
      "mean f1 : 0.6796593220671376\n"
     ]
    }
   ],
   "source": [
    "f1_scores = cross_val_score(data_pipeline, df1, salary, scoring='f1', cv=KFold(n_splits=10), n_jobs=-1)\n",
    "print('max f1 :', f1_scores.max())\n",
    "print('min f1 :', f1_scores.min())\n",
    "print('mean f1 :', f1_scores.mean())"
   ]
  },
  {
   "cell_type": "code",
   "execution_count": 75,
   "id": "l70MUzxS_Ljr",
   "metadata": {
    "colab": {
     "base_uri": "https://localhost:8080/"
    },
    "id": "l70MUzxS_Ljr",
    "outputId": "6ffe93f1-0f2c-44e3-bbcb-7fa25c328af3"
   },
   "outputs": [
    {
     "name": "stdout",
     "output_type": "stream",
     "text": [
      "max accuracy : 0.8332305795314426\n",
      "min accuracy : 0.8017879161528977\n",
      "mean accuracy : 0.8194512946979039\n"
     ]
    }
   ],
   "source": [
    "accuracy_scores = cross_val_score(data_pipeline, df1, salary, scoring='accuracy', cv=KFold(n_splits=10), n_jobs=-1)\n",
    "print('max accuracy :', accuracy_scores.max())\n",
    "print('min accuracy :', accuracy_scores.min())\n",
    "print('mean accuracy :', accuracy_scores.mean())"
   ]
  },
  {
   "cell_type": "markdown",
   "id": "I67OvXiq_TDo",
   "metadata": {
    "id": "I67OvXiq_TDo"
   },
   "source": [
    "Here, as we can see the maximum, minimum and mean F1 and accuracy scores are pretty much good so we'll continue with the model"
   ]
  },
  {
   "cell_type": "markdown",
   "id": "5513bef7",
   "metadata": {},
   "source": [
    "## Robust Model Testing"
   ]
  },
  {
   "cell_type": "code",
   "execution_count": 76,
   "id": "Fheihay0k0lK",
   "metadata": {
    "id": "Fheihay0k0lK"
   },
   "outputs": [],
   "source": [
    "from sklearn.model_selection import train_test_split\n",
    "x_train, x_test, y_train, y_test = train_test_split(df1, salary, test_size = 0.1, random_state = 0)"
   ]
  },
  {
   "cell_type": "code",
   "execution_count": 77,
   "id": "yyZNbmNZHeUU",
   "metadata": {
    "colab": {
     "base_uri": "https://localhost:8080/"
    },
    "id": "yyZNbmNZHeUU",
    "outputId": "a41be745-a9a1-46cf-95ad-61d637b12408"
   },
   "outputs": [
    {
     "name": "stdout",
     "output_type": "stream",
     "text": [
      "0:\tlearn: 0.5142049\ttotal: 134ms\tremaining: 3.88s\n",
      "1:\tlearn: 0.4318439\ttotal: 251ms\tremaining: 3.51s\n",
      "2:\tlearn: 0.3931485\ttotal: 375ms\tremaining: 3.37s\n",
      "3:\tlearn: 0.3728688\ttotal: 485ms\tremaining: 3.15s\n",
      "4:\tlearn: 0.3585533\ttotal: 608ms\tremaining: 3.04s\n",
      "5:\tlearn: 0.3474175\ttotal: 721ms\tremaining: 2.88s\n",
      "6:\tlearn: 0.3383276\ttotal: 836ms\tremaining: 2.75s\n",
      "7:\tlearn: 0.3308784\ttotal: 953ms\tremaining: 2.62s\n",
      "8:\tlearn: 0.3247843\ttotal: 1.06s\tremaining: 2.48s\n",
      "9:\tlearn: 0.3191407\ttotal: 1.18s\tremaining: 2.37s\n",
      "10:\tlearn: 0.3148228\ttotal: 1.3s\tremaining: 2.25s\n",
      "11:\tlearn: 0.3107050\ttotal: 1.43s\tremaining: 2.14s\n",
      "12:\tlearn: 0.3084520\ttotal: 1.55s\tremaining: 2.03s\n",
      "13:\tlearn: 0.3060459\ttotal: 1.67s\tremaining: 1.91s\n",
      "14:\tlearn: 0.3026846\ttotal: 1.79s\tremaining: 1.79s\n",
      "15:\tlearn: 0.3006056\ttotal: 1.9s\tremaining: 1.67s\n",
      "16:\tlearn: 0.2980138\ttotal: 2.02s\tremaining: 1.55s\n",
      "17:\tlearn: 0.2956347\ttotal: 2.15s\tremaining: 1.43s\n",
      "18:\tlearn: 0.2937790\ttotal: 2.27s\tremaining: 1.31s\n",
      "19:\tlearn: 0.2910954\ttotal: 2.39s\tremaining: 1.2s\n",
      "20:\tlearn: 0.2892935\ttotal: 2.51s\tremaining: 1.07s\n",
      "21:\tlearn: 0.2868197\ttotal: 2.63s\tremaining: 956ms\n",
      "22:\tlearn: 0.2853556\ttotal: 2.74s\tremaining: 835ms\n",
      "23:\tlearn: 0.2837019\ttotal: 2.85s\tremaining: 714ms\n",
      "24:\tlearn: 0.2808178\ttotal: 2.97s\tremaining: 594ms\n",
      "25:\tlearn: 0.2792213\ttotal: 3.08s\tremaining: 475ms\n",
      "26:\tlearn: 0.2774839\ttotal: 3.21s\tremaining: 356ms\n",
      "27:\tlearn: 0.2754811\ttotal: 3.32s\tremaining: 237ms\n",
      "28:\tlearn: 0.2744718\ttotal: 3.45s\tremaining: 119ms\n",
      "29:\tlearn: 0.2726523\ttotal: 3.58s\tremaining: 0us\n"
     ]
    }
   ],
   "source": [
    "data_pipeline.fit(x_train, y_train)\n",
    "y_pred = data_pipeline.predict(x_test)"
   ]
  },
  {
   "cell_type": "code",
   "execution_count": 78,
   "id": "wNKXEkeF8ng_",
   "metadata": {
    "id": "wNKXEkeF8ng_"
   },
   "outputs": [],
   "source": [
    "from sklearn.metrics import confusion_matrix, precision_score, recall_score, accuracy_score, f1_score"
   ]
  },
  {
   "cell_type": "code",
   "execution_count": 79,
   "id": "Pik10RGjGpv4",
   "metadata": {
    "colab": {
     "base_uri": "https://localhost:8080/",
     "height": 282
    },
    "id": "Pik10RGjGpv4",
    "outputId": "51bbe60d-0169-4517-be95-6deab5a26aef"
   },
   "outputs": [
    {
     "data": {
      "text/plain": [
       "<matplotlib.axes._subplots.AxesSubplot at 0x7fd2a3b852d0>"
      ]
     },
     "execution_count": 79,
     "metadata": {},
     "output_type": "execute_result"
    },
    {
     "data": {
      "image/png": "[encoded data removed]",
      "text/plain": [
       "<Figure size 432x288 with 2 Axes>"
      ]
     },
     "metadata": {},
     "output_type": "display_data"
    }
   ],
   "source": [
    "sns.heatmap(confusion_matrix(y_pred=y_pred, y_true=y_test),annot=True)"
   ]
  },
  {
   "cell_type": "code",
   "execution_count": 80,
   "id": "5rc7PQhpIYm0",
   "metadata": {
    "colab": {
     "base_uri": "https://localhost:8080/",
     "height": 111
    },
    "id": "5rc7PQhpIYm0",
    "outputId": "dd982da8-7fe1-4fa7-d8e9-2bc81404cede"
   },
   "outputs": [
    {
     "data": {
      "text/html": [
       "<div>\n",
       "<style scoped>\n",
       "    .dataframe tbody tr th:only-of-type {\n",
       "        vertical-align: middle;\n",
       "    }\n",
       "\n",
       "    .dataframe tbody tr th {\n",
       "        vertical-align: top;\n",
       "    }\n",
       "\n",
       "    .dataframe thead th {\n",
       "        text-align: right;\n",
       "    }\n",
       "</style>\n",
       "<table border=\"1\" class=\"dataframe\">\n",
       "  <thead>\n",
       "    <tr style=\"text-align: right;\">\n",
       "      <th></th>\n",
       "      <th>0</th>\n",
       "      <th>1</th>\n",
       "    </tr>\n",
       "  </thead>\n",
       "  <tbody>\n",
       "    <tr>\n",
       "      <th>0</th>\n",
       "      <td>1988</td>\n",
       "      <td>445</td>\n",
       "    </tr>\n",
       "    <tr>\n",
       "      <th>1</th>\n",
       "      <td>146</td>\n",
       "      <td>665</td>\n",
       "    </tr>\n",
       "  </tbody>\n",
       "</table>\n",
       "</div>"
      ],
      "text/plain": [
       "      0    1\n",
       "0  1988  445\n",
       "1   146  665"
      ]
     },
     "execution_count": 80,
     "metadata": {},
     "output_type": "execute_result"
    }
   ],
   "source": [
    "pd.DataFrame(confusion_matrix(y_pred=y_pred, y_true=y_test))"
   ]
  },
  {
   "cell_type": "code",
   "execution_count": 81,
   "id": "IQeJPn0PHYth",
   "metadata": {
    "colab": {
     "base_uri": "https://localhost:8080/"
    },
    "id": "IQeJPn0PHYth",
    "outputId": "e084e32c-e9b4-4e92-f845-0ca922945ca3"
   },
   "outputs": [
    {
     "name": "stdout",
     "output_type": "stream",
     "text": [
      "recall : 0.8199753390875463\n",
      "precision : 0.5990990990990991\n",
      "F1 : 0.6923477355543988\n",
      "accuracy : 0.8178175092478421\n"
     ]
    }
   ],
   "source": [
    "print('recall :', recall_score(y_test, y_pred))\n",
    "print('precision :', precision_score(y_test, y_pred))\n",
    "print('F1 :', f1_score(y_test, y_pred))\n",
    "print('accuracy :', accuracy_score(y_test, y_pred))"
   ]
  },
  {
   "cell_type": "markdown",
   "id": "O4uzjY1Q-6EA",
   "metadata": {
    "id": "O4uzjY1Q-6EA"
   },
   "source": [
    "So, as we can see we are getting some good with our CatBoost model after hyperparameter tuning using GridSearchCV. Now, using this model in production"
   ]
  }
 ],
 "metadata": {
  "accelerator": "GPU",
  "colab": {
   "collapsed_sections": [],
   "name": "ineuron_final.ipynb",
   "provenance": []
  },
  "kernelspec": {
   "display_name": "python3",
   "language": "python",
   "name": "python3"
  },
  "language_info": {
   "codemirror_mode": {
    "name": "ipython",
    "version": 3
   },
   "file_extension": ".py",
   "mimetype": "text/x-python",
   "name": "python",
   "nbconvert_exporter": "python",
   "pygments_lexer": "ipython3",
   "version": "3.8.8"
  }
 },
 "nbformat": 4,
 "nbformat_minor": 5
}
